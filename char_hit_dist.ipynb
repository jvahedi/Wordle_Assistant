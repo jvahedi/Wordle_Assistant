{
  "nbformat": 4,
  "nbformat_minor": 0,
  "metadata": {
    "colab": {
      "name": "Wordle Assistant",
      "provenance": [],
      "collapsed_sections": [],
      "include_colab_link": true
    },
    "kernelspec": {
      "name": "python3",
      "display_name": "Python 3"
    },
    "language_info": {
      "name": "python"
    }
  },
  "cells": [
    {
      "cell_type": "markdown",
      "metadata": {
        "id": "view-in-github",
        "colab_type": "text"
      },
      "source": [
        "<a href=\"https://colab.research.google.com/github/jvahedi/Wordle_Assistant/blob/main/char_hit_dist.ipynb\" target=\"_parent\"><img src=\"https://colab.research.google.com/assets/colab-badge.svg\" alt=\"Open In Colab\"/></a>"
      ]
    },
    {
      "cell_type": "code",
      "execution_count": 2,
      "metadata": {
        "colab": {
          "base_uri": "https://localhost:8080/"
        },
        "id": "lOsty8Mo0Pxk",
        "outputId": "f8581c9d-3a12-492c-f245-2dedd80f89bf"
      },
      "outputs": [
        {
          "output_type": "stream",
          "name": "stdout",
          "text": [
            "(15918,)\n",
            "(1413,)\n"
          ]
        }
      ],
      "source": [
        "letters_possible = \"abcdefghijklmnopqrstuvwxyz\" #@param {type:\"string\"}\n",
        "letters_definitely = \"st\" #@param {type:\"string\"}\n",
        "letters_position = \"?????\" #@param {type:\"string\"}\n",
        "show_graph = False #@param {type:\"boolean\"}\n",
        "\n",
        "one_random = False #@param {type:\"boolean\"}\n",
        "\n",
        "import numpy as np\n",
        "possible = list(letters_possible) \n",
        "position = list(letters_position) \n",
        "definitely = list(letters_definitely) \n",
        "\n",
        "import urllib.request\n",
        "url = \"https://raw.githubusercontent.com/dwyl/english-words/master/words_alpha.txt\"\n",
        "file = urllib.request.urlopen(url)\n",
        "list_o_words = [((line.decode('utf-8').strip()).split()) for line in file]\n",
        "file.close()\n",
        "\n",
        "list_o_words = np.array(list_o_words)\n",
        "length = np.char.str_len(list_o_words)\n",
        "list_o_words = list_o_words[length == 5]\n",
        "matrix_o_char = np.array([list(w) for w in list_o_words])\n",
        "\n",
        "words = list_o_words\n",
        "print(words.shape)\n",
        "req = np.ones(len(words)).astype(bool)\n",
        "i = 0\n",
        "for L in position:\n",
        "  if L == '?' or L == ' ':\n",
        "    pass\n",
        "  else:\n",
        "    req = np.logical_and(req, matrix_o_char[:,i] == L)\n",
        "  i = i+1\n",
        "words = words[req]\n",
        "matrix_o_char = matrix_o_char[req]\n",
        "\n",
        "has = np.ones(len(words)).astype(bool)\n",
        "for k in definitely:\n",
        "  if k != ' ':\n",
        "    has = np.logical_and(has,np.sum(matrix_o_char == k, axis = 1) > 0)\n",
        "words = words[has]\n",
        "matrix_o_char = matrix_o_char[has]\n",
        "\n",
        "hits = np.zeros(len(words))\n",
        "for l in possible:\n",
        "  out  = np.sum(matrix_o_char == l, axis = 1)\n",
        "  hits = hits + out\n",
        "words = words[hits > 4]\n",
        "matrix_o_char = matrix_o_char[hits > 4]\n",
        "\n",
        "if one_random == False:\n",
        "  print(words.shape)\n",
        "else:\n",
        "  ind = int(np.random.rand()*len(words))\n",
        "  print(words[ind])\n",
        "\n",
        "if show_graph == True:\n",
        "  let, count = np.unique(matrix_o_char, return_counts = True)\n",
        "  ord = let[np.argsort(-count)]\n",
        "  import matplotlib.pyplot as plt\n",
        "  plt.bar(ord,count[np.argsort(-count)])\n",
        "  plt.title('5 letter word character frequency')\n",
        "  plt.show()"
      ]
    },
    {
      "cell_type": "code",
      "source": [
        "import random\n",
        "letters = list('abcdefghijklmnopqrstuvwxyz')\n",
        "\n",
        "n=1000000\n",
        "#make up words with repetition \n",
        "W = np.empty((n,5), dtype = str)\n",
        "for i in range(n):\n",
        "  W[i,:] = np.array(random.choices(letters, k = 5))\n",
        "  #W[i,:] = np.array(random.sample(letters, k = 5))\n",
        "\n",
        "#number of hits of select letters in each word\n",
        "D1 = np.sum(W == 'a', axis = 1) + np.sum(W == 'b', axis = 1) + np.sum(W == 'c', axis = 1)\n",
        "#sum of number of words that have at least 3 hits\n",
        "h = np.sum(D1>2)\n",
        "\n",
        "#print ratio of successes to total\n",
        "print(h/n)\n",
        "\n",
        "#make up words without repetition \n",
        "W = np.empty((n,5), dtype = str)\n",
        "for i in range(n):\n",
        "  #W[i,:] = np.array(random.choices(letters, k = 5))\n",
        "  W[i,:] = np.array(random.sample(letters, k = 5))\n",
        "\n",
        "D2 = np.sum(W == 'a', axis = 1) + np.sum(W == 'b', axis = 1) + np.sum(W == 'c', axis = 1)\n",
        "h = np.sum(D2>2)\n",
        "\n",
        "print(h/n)\n",
        "import matplotlib.pyplot as plt\n",
        "\n",
        "plt.hist(D1, density = True)\n",
        "plt.hist(D2, density = True)"
      ],
      "metadata": {
        "id": "xfZ_MFql2a3y",
        "outputId": "e4b796ad-6fb4-44d4-f6ba-d3fc01097acb",
        "colab": {
          "base_uri": "https://localhost:8080/",
          "height": 369
        }
      },
      "execution_count": 64,
      "outputs": [
        {
          "output_type": "stream",
          "name": "stdout",
          "text": [
            "0.01291\n",
            "0.003903\n"
          ]
        },
        {
          "output_type": "execute_result",
          "data": {
            "text/plain": [
              "(array([1.70249667, 0.        , 0.        , 1.34777   , 0.        ,\n",
              "        0.        , 0.27005667, 0.        , 0.        , 0.01301   ]),\n",
              " array([0. , 0.3, 0.6, 0.9, 1.2, 1.5, 1.8, 2.1, 2.4, 2.7, 3. ]),\n",
              " <a list of 10 Patch objects>)"
            ]
          },
          "metadata": {},
          "execution_count": 64
        },
        {
          "output_type": "display_data",
          "data": {
            "image/png": "[encoded data removed]",
            "text/plain": [
              "<Figure size 432x288 with 1 Axes>"
            ]
          },
          "metadata": {
            "needs_background": "light"
          }
        }
      ]
    },
    {
      "cell_type": "code",
      "source": [
        ""
      ],
      "metadata": {
        "id": "1OCqijjAngzv"
      },
      "execution_count": null,
      "outputs": []
    }
  ]
}