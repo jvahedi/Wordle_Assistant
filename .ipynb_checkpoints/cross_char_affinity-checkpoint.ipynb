{
 "cells": [
  {
   "cell_type": "code",
   "execution_count": 3,
   "metadata": {
    "ExecuteTime": {
     "end_time": "2022-02-07T23:26:43.115268Z",
     "start_time": "2022-02-07T23:26:41.262323Z"
    },
    "scrolled": true
   },
   "outputs": [
    {
     "data": {
      "text/plain": [
       "array([['a', 'a', 'h', 'e', 'd'],\n",
       "       ['a', 'a', 'l', 'i', 'i'],\n",
       "       ['a', 'a', 'r', 'g', 'h'],\n",
       "       ...,\n",
       "       ['z', 'u', 'd', 'd', 'a'],\n",
       "       ['z', 'u', 'l', 'u', 's'],\n",
       "       ['z', 'u', 'n', 'i', 's']], dtype='<U1')"
      ]
     },
     "execution_count": 3,
     "metadata": {},
     "output_type": "execute_result"
    }
   ],
   "source": [
    "##loading list of 5 letter words\n",
    "\n",
    "import urllib.request\n",
    "url = \"https://raw.githubusercontent.com/dwyl/english-words/master/words_alpha.txt\"\n",
    "file = urllib.request.urlopen(url)\n",
    "list_o_words = [((line.decode('utf-8').strip()).split()) for line in file]\n",
    "file.close()\n",
    "\n",
    "import numpy as np\n",
    "list_o_words = np.array(list_o_words)\n",
    "length = np.char.str_len(list_o_words)\n",
    "list_o_words = list_o_words[length == 5]\n",
    "matrix_o_char = np.array([list(w) for w in list_o_words])\n",
    "matrix_o_char"
   ]
  },
  {
   "cell_type": "code",
   "execution_count": 5,
   "metadata": {
    "ExecuteTime": {
     "end_time": "2022-02-07T23:29:32.933423Z",
     "start_time": "2022-02-07T23:29:31.448469Z"
    }
   },
   "outputs": [
    {
     "data": {
      "image/png": "[encoded data removed]",
      "text/plain": [
       "<Figure size 288x288 with 1 Axes>"
      ]
     },
     "metadata": {
      "needs_background": "light"
     },
     "output_type": "display_data"
    },
    {
     "data": {
      "image/png": "[encoded data removed]",
      "text/plain": [
       "<Figure size 288x288 with 1 Axes>"
      ]
     },
     "metadata": {
      "needs_background": "light"
     },
     "output_type": "display_data"
    },
    {
     "data": {
      "text/plain": [
       "<AxesSubplot:>"
      ]
     },
     "execution_count": 5,
     "metadata": {},
     "output_type": "execute_result"
    },
    {
     "data": {
      "image/png": "[encoded data removed]",
      "text/plain": [
       "<Figure size 432x288 with 2 Axes>"
      ]
     },
     "metadata": {
      "needs_background": "light"
     },
     "output_type": "display_data"
    }
   ],
   "source": [
    "##Cosine Similarity\n",
    "\n",
    "size = len(list_o_words)\n",
    "Q = np.zeros((size,26))\n",
    "i = 0\n",
    "\n",
    "#multihot encoding for letters in word\n",
    "for let in list(\"abcdefghijklmnopqrstuvwxyz\"):\n",
    "    Q[:,i] = np.sum(matrix_o_char == let, axis = 1)\n",
    "    i+=1\n",
    "\n",
    "#dot product of encoding\n",
    "Z = np.matmul(np.transpose(Q),Q)\n",
    "\n",
    "\n",
    "import pandas as pd\n",
    "#data frame of Q\n",
    "let_hit = pd.DataFrame(Q, columns = list(\"abcdefghijklmnopqrstuvwxyz\"), index = list_o_words) \n",
    "C = np.transpose(let_hit).dot(let_hit)\n",
    "d = np.sqrt(np.diag(C))\n",
    "C = C/d\n",
    "\n",
    "#normalized to Cosine similarity\n",
    "C = np.transpose(C)/d\n",
    "\n",
    "#plot heatmap\n",
    "import matplotlib.pyplot as plt\n",
    "plt.matshow(Z)\n",
    "plt.show()\n",
    "\n",
    "plt.matshow(C)\n",
    "plt.show()\n",
    "\n",
    "import seaborn as sns\n",
    "\n",
    "# plot the heatmap\n",
    "sns.heatmap(C, \n",
    "        xticklabels=C.columns,\n",
    "        yticklabels=C.columns)"
   ]
  },
  {
   "cell_type": "code",
   "execution_count": 4,
   "metadata": {
    "ExecuteTime": {
     "end_time": "2022-01-20T05:25:57.033679Z",
     "start_time": "2022-01-20T05:25:56.786144Z"
    }
   },
   "outputs": [
    {
     "data": {
      "text/html": [
       "<div>\n",
       "<style scoped>\n",
       "    .dataframe tbody tr th:only-of-type {\n",
       "        vertical-align: middle;\n",
       "    }\n",
       "\n",
       "    .dataframe tbody tr th {\n",
       "        vertical-align: top;\n",
       "    }\n",
       "\n",
       "    .dataframe thead th {\n",
       "        text-align: right;\n",
       "    }\n",
       "</style>\n",
       "<table border=\"1\" class=\"dataframe\">\n",
       "  <thead>\n",
       "    <tr style=\"text-align: right;\">\n",
       "      <th></th>\n",
       "      <th>a</th>\n",
       "      <th>b</th>\n",
       "      <th>c</th>\n",
       "      <th>d</th>\n",
       "      <th>e</th>\n",
       "      <th>f</th>\n",
       "      <th>g</th>\n",
       "      <th>h</th>\n",
       "      <th>i</th>\n",
       "      <th>j</th>\n",
       "      <th>...</th>\n",
       "      <th>q</th>\n",
       "      <th>r</th>\n",
       "      <th>s</th>\n",
       "      <th>t</th>\n",
       "      <th>u</th>\n",
       "      <th>v</th>\n",
       "      <th>w</th>\n",
       "      <th>x</th>\n",
       "      <th>y</th>\n",
       "      <th>z</th>\n",
       "    </tr>\n",
       "  </thead>\n",
       "  <tbody>\n",
       "    <tr>\n",
       "      <th>aahed</th>\n",
       "      <td>1.0</td>\n",
       "      <td>0.0</td>\n",
       "      <td>0.0</td>\n",
       "      <td>1.0</td>\n",
       "      <td>1.0</td>\n",
       "      <td>0.0</td>\n",
       "      <td>0.0</td>\n",
       "      <td>1.0</td>\n",
       "      <td>0.0</td>\n",
       "      <td>0.0</td>\n",
       "      <td>...</td>\n",
       "      <td>0.0</td>\n",
       "      <td>0.0</td>\n",
       "      <td>0.0</td>\n",
       "      <td>0.0</td>\n",
       "      <td>0.0</td>\n",
       "      <td>0.0</td>\n",
       "      <td>0.0</td>\n",
       "      <td>0.0</td>\n",
       "      <td>0.0</td>\n",
       "      <td>0.0</td>\n",
       "    </tr>\n",
       "    <tr>\n",
       "      <th>aalii</th>\n",
       "      <td>1.0</td>\n",
       "      <td>0.0</td>\n",
       "      <td>0.0</td>\n",
       "      <td>0.0</td>\n",
       "      <td>0.0</td>\n",
       "      <td>0.0</td>\n",
       "      <td>0.0</td>\n",
       "      <td>0.0</td>\n",
       "      <td>1.0</td>\n",
       "      <td>0.0</td>\n",
       "      <td>...</td>\n",
       "      <td>0.0</td>\n",
       "      <td>0.0</td>\n",
       "      <td>0.0</td>\n",
       "      <td>0.0</td>\n",
       "      <td>0.0</td>\n",
       "      <td>0.0</td>\n",
       "      <td>0.0</td>\n",
       "      <td>0.0</td>\n",
       "      <td>0.0</td>\n",
       "      <td>0.0</td>\n",
       "    </tr>\n",
       "    <tr>\n",
       "      <th>aargh</th>\n",
       "      <td>1.0</td>\n",
       "      <td>0.0</td>\n",
       "      <td>0.0</td>\n",
       "      <td>0.0</td>\n",
       "      <td>0.0</td>\n",
       "      <td>0.0</td>\n",
       "      <td>1.0</td>\n",
       "      <td>1.0</td>\n",
       "      <td>0.0</td>\n",
       "      <td>0.0</td>\n",
       "      <td>...</td>\n",
       "      <td>0.0</td>\n",
       "      <td>1.0</td>\n",
       "      <td>0.0</td>\n",
       "      <td>0.0</td>\n",
       "      <td>0.0</td>\n",
       "      <td>0.0</td>\n",
       "      <td>0.0</td>\n",
       "      <td>0.0</td>\n",
       "      <td>0.0</td>\n",
       "      <td>0.0</td>\n",
       "    </tr>\n",
       "    <tr>\n",
       "      <th>aaron</th>\n",
       "      <td>1.0</td>\n",
       "      <td>0.0</td>\n",
       "      <td>0.0</td>\n",
       "      <td>0.0</td>\n",
       "      <td>0.0</td>\n",
       "      <td>0.0</td>\n",
       "      <td>0.0</td>\n",
       "      <td>0.0</td>\n",
       "      <td>0.0</td>\n",
       "      <td>0.0</td>\n",
       "      <td>...</td>\n",
       "      <td>0.0</td>\n",
       "      <td>1.0</td>\n",
       "      <td>0.0</td>\n",
       "      <td>0.0</td>\n",
       "      <td>0.0</td>\n",
       "      <td>0.0</td>\n",
       "      <td>0.0</td>\n",
       "      <td>0.0</td>\n",
       "      <td>0.0</td>\n",
       "      <td>0.0</td>\n",
       "    </tr>\n",
       "    <tr>\n",
       "      <th>abaca</th>\n",
       "      <td>1.0</td>\n",
       "      <td>1.0</td>\n",
       "      <td>1.0</td>\n",
       "      <td>0.0</td>\n",
       "      <td>0.0</td>\n",
       "      <td>0.0</td>\n",
       "      <td>0.0</td>\n",
       "      <td>0.0</td>\n",
       "      <td>0.0</td>\n",
       "      <td>0.0</td>\n",
       "      <td>...</td>\n",
       "      <td>0.0</td>\n",
       "      <td>0.0</td>\n",
       "      <td>0.0</td>\n",
       "      <td>0.0</td>\n",
       "      <td>0.0</td>\n",
       "      <td>0.0</td>\n",
       "      <td>0.0</td>\n",
       "      <td>0.0</td>\n",
       "      <td>0.0</td>\n",
       "      <td>0.0</td>\n",
       "    </tr>\n",
       "    <tr>\n",
       "      <th>...</th>\n",
       "      <td>...</td>\n",
       "      <td>...</td>\n",
       "      <td>...</td>\n",
       "      <td>...</td>\n",
       "      <td>...</td>\n",
       "      <td>...</td>\n",
       "      <td>...</td>\n",
       "      <td>...</td>\n",
       "      <td>...</td>\n",
       "      <td>...</td>\n",
       "      <td>...</td>\n",
       "      <td>...</td>\n",
       "      <td>...</td>\n",
       "      <td>...</td>\n",
       "      <td>...</td>\n",
       "      <td>...</td>\n",
       "      <td>...</td>\n",
       "      <td>...</td>\n",
       "      <td>...</td>\n",
       "      <td>...</td>\n",
       "      <td>...</td>\n",
       "    </tr>\n",
       "    <tr>\n",
       "      <th>zowie</th>\n",
       "      <td>0.0</td>\n",
       "      <td>0.0</td>\n",
       "      <td>0.0</td>\n",
       "      <td>0.0</td>\n",
       "      <td>1.0</td>\n",
       "      <td>0.0</td>\n",
       "      <td>0.0</td>\n",
       "      <td>0.0</td>\n",
       "      <td>1.0</td>\n",
       "      <td>0.0</td>\n",
       "      <td>...</td>\n",
       "      <td>0.0</td>\n",
       "      <td>0.0</td>\n",
       "      <td>0.0</td>\n",
       "      <td>0.0</td>\n",
       "      <td>0.0</td>\n",
       "      <td>0.0</td>\n",
       "      <td>1.0</td>\n",
       "      <td>0.0</td>\n",
       "      <td>0.0</td>\n",
       "      <td>1.0</td>\n",
       "    </tr>\n",
       "    <tr>\n",
       "      <th>zucco</th>\n",
       "      <td>0.0</td>\n",
       "      <td>0.0</td>\n",
       "      <td>1.0</td>\n",
       "      <td>0.0</td>\n",
       "      <td>0.0</td>\n",
       "      <td>0.0</td>\n",
       "      <td>0.0</td>\n",
       "      <td>0.0</td>\n",
       "      <td>0.0</td>\n",
       "      <td>0.0</td>\n",
       "      <td>...</td>\n",
       "      <td>0.0</td>\n",
       "      <td>0.0</td>\n",
       "      <td>0.0</td>\n",
       "      <td>0.0</td>\n",
       "      <td>1.0</td>\n",
       "      <td>0.0</td>\n",
       "      <td>0.0</td>\n",
       "      <td>0.0</td>\n",
       "      <td>0.0</td>\n",
       "      <td>1.0</td>\n",
       "    </tr>\n",
       "    <tr>\n",
       "      <th>zudda</th>\n",
       "      <td>1.0</td>\n",
       "      <td>0.0</td>\n",
       "      <td>0.0</td>\n",
       "      <td>1.0</td>\n",
       "      <td>0.0</td>\n",
       "      <td>0.0</td>\n",
       "      <td>0.0</td>\n",
       "      <td>0.0</td>\n",
       "      <td>0.0</td>\n",
       "      <td>0.0</td>\n",
       "      <td>...</td>\n",
       "      <td>0.0</td>\n",
       "      <td>0.0</td>\n",
       "      <td>0.0</td>\n",
       "      <td>0.0</td>\n",
       "      <td>1.0</td>\n",
       "      <td>0.0</td>\n",
       "      <td>0.0</td>\n",
       "      <td>0.0</td>\n",
       "      <td>0.0</td>\n",
       "      <td>1.0</td>\n",
       "    </tr>\n",
       "    <tr>\n",
       "      <th>zulus</th>\n",
       "      <td>0.0</td>\n",
       "      <td>0.0</td>\n",
       "      <td>0.0</td>\n",
       "      <td>0.0</td>\n",
       "      <td>0.0</td>\n",
       "      <td>0.0</td>\n",
       "      <td>0.0</td>\n",
       "      <td>0.0</td>\n",
       "      <td>0.0</td>\n",
       "      <td>0.0</td>\n",
       "      <td>...</td>\n",
       "      <td>0.0</td>\n",
       "      <td>0.0</td>\n",
       "      <td>1.0</td>\n",
       "      <td>0.0</td>\n",
       "      <td>1.0</td>\n",
       "      <td>0.0</td>\n",
       "      <td>0.0</td>\n",
       "      <td>0.0</td>\n",
       "      <td>0.0</td>\n",
       "      <td>1.0</td>\n",
       "    </tr>\n",
       "    <tr>\n",
       "      <th>zunis</th>\n",
       "      <td>0.0</td>\n",
       "      <td>0.0</td>\n",
       "      <td>0.0</td>\n",
       "      <td>0.0</td>\n",
       "      <td>0.0</td>\n",
       "      <td>0.0</td>\n",
       "      <td>0.0</td>\n",
       "      <td>0.0</td>\n",
       "      <td>1.0</td>\n",
       "      <td>0.0</td>\n",
       "      <td>...</td>\n",
       "      <td>0.0</td>\n",
       "      <td>0.0</td>\n",
       "      <td>1.0</td>\n",
       "      <td>0.0</td>\n",
       "      <td>1.0</td>\n",
       "      <td>0.0</td>\n",
       "      <td>0.0</td>\n",
       "      <td>0.0</td>\n",
       "      <td>0.0</td>\n",
       "      <td>1.0</td>\n",
       "    </tr>\n",
       "  </tbody>\n",
       "</table>\n",
       "<p>15918 rows × 26 columns</p>\n",
       "</div>"
      ],
      "text/plain": [
       "         a    b    c    d    e    f    g    h    i    j  ...    q    r    s  \\\n",
       "aahed  1.0  0.0  0.0  1.0  1.0  0.0  0.0  1.0  0.0  0.0  ...  0.0  0.0  0.0   \n",
       "aalii  1.0  0.0  0.0  0.0  0.0  0.0  0.0  0.0  1.0  0.0  ...  0.0  0.0  0.0   \n",
       "aargh  1.0  0.0  0.0  0.0  0.0  0.0  1.0  1.0  0.0  0.0  ...  0.0  1.0  0.0   \n",
       "aaron  1.0  0.0  0.0  0.0  0.0  0.0  0.0  0.0  0.0  0.0  ...  0.0  1.0  0.0   \n",
       "abaca  1.0  1.0  1.0  0.0  0.0  0.0  0.0  0.0  0.0  0.0  ...  0.0  0.0  0.0   \n",
       "...    ...  ...  ...  ...  ...  ...  ...  ...  ...  ...  ...  ...  ...  ...   \n",
       "zowie  0.0  0.0  0.0  0.0  1.0  0.0  0.0  0.0  1.0  0.0  ...  0.0  0.0  0.0   \n",
       "zucco  0.0  0.0  1.0  0.0  0.0  0.0  0.0  0.0  0.0  0.0  ...  0.0  0.0  0.0   \n",
       "zudda  1.0  0.0  0.0  1.0  0.0  0.0  0.0  0.0  0.0  0.0  ...  0.0  0.0  0.0   \n",
       "zulus  0.0  0.0  0.0  0.0  0.0  0.0  0.0  0.0  0.0  0.0  ...  0.0  0.0  1.0   \n",
       "zunis  0.0  0.0  0.0  0.0  0.0  0.0  0.0  0.0  1.0  0.0  ...  0.0  0.0  1.0   \n",
       "\n",
       "         t    u    v    w    x    y    z  \n",
       "aahed  0.0  0.0  0.0  0.0  0.0  0.0  0.0  \n",
       "aalii  0.0  0.0  0.0  0.0  0.0  0.0  0.0  \n",
       "aargh  0.0  0.0  0.0  0.0  0.0  0.0  0.0  \n",
       "aaron  0.0  0.0  0.0  0.0  0.0  0.0  0.0  \n",
       "abaca  0.0  0.0  0.0  0.0  0.0  0.0  0.0  \n",
       "...    ...  ...  ...  ...  ...  ...  ...  \n",
       "zowie  0.0  0.0  0.0  1.0  0.0  0.0  1.0  \n",
       "zucco  0.0  1.0  0.0  0.0  0.0  0.0  1.0  \n",
       "zudda  0.0  1.0  0.0  0.0  0.0  0.0  1.0  \n",
       "zulus  0.0  1.0  0.0  0.0  0.0  0.0  1.0  \n",
       "zunis  0.0  1.0  0.0  0.0  0.0  0.0  1.0  \n",
       "\n",
       "[15918 rows x 26 columns]"
      ]
     },
     "execution_count": 4,
     "metadata": {},
     "output_type": "execute_result"
    }
   ],
   "source": [
    "##cross hits of characters\n",
    "let_hit =(let_hit/let_hit)\n",
    "let_hit.iloc[let_hit.isna()] = 0\n",
    "let_hit"
   ]
  },
  {
   "cell_type": "code",
   "execution_count": 5,
   "metadata": {
    "ExecuteTime": {
     "end_time": "2022-01-20T05:25:57.257683Z",
     "start_time": "2022-01-20T05:25:57.038677Z"
    }
   },
   "outputs": [
    {
     "data": {
      "text/html": [
       "<div>\n",
       "<style scoped>\n",
       "    .dataframe tbody tr th:only-of-type {\n",
       "        vertical-align: middle;\n",
       "    }\n",
       "\n",
       "    .dataframe tbody tr th {\n",
       "        vertical-align: top;\n",
       "    }\n",
       "\n",
       "    .dataframe thead th {\n",
       "        text-align: right;\n",
       "    }\n",
       "</style>\n",
       "<table border=\"1\" class=\"dataframe\">\n",
       "  <thead>\n",
       "    <tr style=\"text-align: right;\">\n",
       "      <th></th>\n",
       "      <th>a</th>\n",
       "      <th>b</th>\n",
       "      <th>c</th>\n",
       "      <th>d</th>\n",
       "      <th>e</th>\n",
       "      <th>f</th>\n",
       "      <th>g</th>\n",
       "      <th>h</th>\n",
       "      <th>i</th>\n",
       "      <th>j</th>\n",
       "      <th>...</th>\n",
       "      <th>q</th>\n",
       "      <th>r</th>\n",
       "      <th>s</th>\n",
       "      <th>t</th>\n",
       "      <th>u</th>\n",
       "      <th>v</th>\n",
       "      <th>w</th>\n",
       "      <th>x</th>\n",
       "      <th>y</th>\n",
       "      <th>z</th>\n",
       "    </tr>\n",
       "  </thead>\n",
       "  <tbody>\n",
       "    <tr>\n",
       "      <th>a</th>\n",
       "      <td>0.021194</td>\n",
       "      <td>0.002553</td>\n",
       "      <td>0.003305</td>\n",
       "      <td>0.003167</td>\n",
       "      <td>0.006662</td>\n",
       "      <td>0.001217</td>\n",
       "      <td>0.002395</td>\n",
       "      <td>0.002831</td>\n",
       "      <td>0.004688</td>\n",
       "      <td>0.000559</td>\n",
       "      <td>...</td>\n",
       "      <td>0.000190</td>\n",
       "      <td>0.006413</td>\n",
       "      <td>0.006908</td>\n",
       "      <td>0.004732</td>\n",
       "      <td>0.002992</td>\n",
       "      <td>0.001199</td>\n",
       "      <td>0.001465</td>\n",
       "      <td>0.000377</td>\n",
       "      <td>0.002606</td>\n",
       "      <td>0.000646</td>\n",
       "    </tr>\n",
       "    <tr>\n",
       "      <th>b</th>\n",
       "      <td>0.002553</td>\n",
       "      <td>0.005662</td>\n",
       "      <td>0.000529</td>\n",
       "      <td>0.000678</td>\n",
       "      <td>0.002240</td>\n",
       "      <td>0.000143</td>\n",
       "      <td>0.000483</td>\n",
       "      <td>0.000436</td>\n",
       "      <td>0.001430</td>\n",
       "      <td>0.000137</td>\n",
       "      <td>...</td>\n",
       "      <td>0.000015</td>\n",
       "      <td>0.001641</td>\n",
       "      <td>0.001497</td>\n",
       "      <td>0.000971</td>\n",
       "      <td>0.001325</td>\n",
       "      <td>0.000094</td>\n",
       "      <td>0.000205</td>\n",
       "      <td>0.000073</td>\n",
       "      <td>0.000866</td>\n",
       "      <td>0.000149</td>\n",
       "    </tr>\n",
       "    <tr>\n",
       "      <th>c</th>\n",
       "      <td>0.003305</td>\n",
       "      <td>0.000529</td>\n",
       "      <td>0.007569</td>\n",
       "      <td>0.000737</td>\n",
       "      <td>0.002600</td>\n",
       "      <td>0.000330</td>\n",
       "      <td>0.000275</td>\n",
       "      <td>0.001606</td>\n",
       "      <td>0.002176</td>\n",
       "      <td>0.000067</td>\n",
       "      <td>...</td>\n",
       "      <td>0.000020</td>\n",
       "      <td>0.002015</td>\n",
       "      <td>0.002132</td>\n",
       "      <td>0.001377</td>\n",
       "      <td>0.001486</td>\n",
       "      <td>0.000281</td>\n",
       "      <td>0.000243</td>\n",
       "      <td>0.000099</td>\n",
       "      <td>0.000948</td>\n",
       "      <td>0.000108</td>\n",
       "    </tr>\n",
       "    <tr>\n",
       "      <th>d</th>\n",
       "      <td>0.003167</td>\n",
       "      <td>0.000678</td>\n",
       "      <td>0.000737</td>\n",
       "      <td>0.007718</td>\n",
       "      <td>0.003875</td>\n",
       "      <td>0.000386</td>\n",
       "      <td>0.000661</td>\n",
       "      <td>0.000611</td>\n",
       "      <td>0.002381</td>\n",
       "      <td>0.000123</td>\n",
       "      <td>...</td>\n",
       "      <td>0.000032</td>\n",
       "      <td>0.002038</td>\n",
       "      <td>0.001971</td>\n",
       "      <td>0.000974</td>\n",
       "      <td>0.001459</td>\n",
       "      <td>0.000339</td>\n",
       "      <td>0.000535</td>\n",
       "      <td>0.000170</td>\n",
       "      <td>0.001179</td>\n",
       "      <td>0.000123</td>\n",
       "    </tr>\n",
       "    <tr>\n",
       "      <th>e</th>\n",
       "      <td>0.006662</td>\n",
       "      <td>0.002240</td>\n",
       "      <td>0.002600</td>\n",
       "      <td>0.003875</td>\n",
       "      <td>0.019676</td>\n",
       "      <td>0.001258</td>\n",
       "      <td>0.002112</td>\n",
       "      <td>0.002190</td>\n",
       "      <td>0.004486</td>\n",
       "      <td>0.000383</td>\n",
       "      <td>...</td>\n",
       "      <td>0.000161</td>\n",
       "      <td>0.006510</td>\n",
       "      <td>0.006627</td>\n",
       "      <td>0.004571</td>\n",
       "      <td>0.002498</td>\n",
       "      <td>0.001492</td>\n",
       "      <td>0.001489</td>\n",
       "      <td>0.000626</td>\n",
       "      <td>0.002155</td>\n",
       "      <td>0.000579</td>\n",
       "    </tr>\n",
       "    <tr>\n",
       "      <th>f</th>\n",
       "      <td>0.001217</td>\n",
       "      <td>0.000143</td>\n",
       "      <td>0.000330</td>\n",
       "      <td>0.000386</td>\n",
       "      <td>0.001258</td>\n",
       "      <td>0.003261</td>\n",
       "      <td>0.000252</td>\n",
       "      <td>0.000231</td>\n",
       "      <td>0.000991</td>\n",
       "      <td>0.000029</td>\n",
       "      <td>...</td>\n",
       "      <td>0.000012</td>\n",
       "      <td>0.001053</td>\n",
       "      <td>0.001082</td>\n",
       "      <td>0.000708</td>\n",
       "      <td>0.000690</td>\n",
       "      <td>0.000035</td>\n",
       "      <td>0.000164</td>\n",
       "      <td>0.000076</td>\n",
       "      <td>0.000509</td>\n",
       "      <td>0.000079</td>\n",
       "    </tr>\n",
       "    <tr>\n",
       "      <th>g</th>\n",
       "      <td>0.002395</td>\n",
       "      <td>0.000483</td>\n",
       "      <td>0.000275</td>\n",
       "      <td>0.000661</td>\n",
       "      <td>0.002112</td>\n",
       "      <td>0.000252</td>\n",
       "      <td>0.005460</td>\n",
       "      <td>0.000521</td>\n",
       "      <td>0.001570</td>\n",
       "      <td>0.000085</td>\n",
       "      <td>...</td>\n",
       "      <td>0.000009</td>\n",
       "      <td>0.001532</td>\n",
       "      <td>0.001421</td>\n",
       "      <td>0.000787</td>\n",
       "      <td>0.001272</td>\n",
       "      <td>0.000164</td>\n",
       "      <td>0.000222</td>\n",
       "      <td>0.000018</td>\n",
       "      <td>0.000816</td>\n",
       "      <td>0.000099</td>\n",
       "    </tr>\n",
       "    <tr>\n",
       "      <th>h</th>\n",
       "      <td>0.002831</td>\n",
       "      <td>0.000436</td>\n",
       "      <td>0.001606</td>\n",
       "      <td>0.000611</td>\n",
       "      <td>0.002190</td>\n",
       "      <td>0.000231</td>\n",
       "      <td>0.000521</td>\n",
       "      <td>0.006501</td>\n",
       "      <td>0.001608</td>\n",
       "      <td>0.000088</td>\n",
       "      <td>...</td>\n",
       "      <td>0.000018</td>\n",
       "      <td>0.001451</td>\n",
       "      <td>0.002173</td>\n",
       "      <td>0.001714</td>\n",
       "      <td>0.001088</td>\n",
       "      <td>0.000158</td>\n",
       "      <td>0.000629</td>\n",
       "      <td>0.000050</td>\n",
       "      <td>0.000749</td>\n",
       "      <td>0.000105</td>\n",
       "    </tr>\n",
       "    <tr>\n",
       "      <th>i</th>\n",
       "      <td>0.004688</td>\n",
       "      <td>0.001430</td>\n",
       "      <td>0.002176</td>\n",
       "      <td>0.002381</td>\n",
       "      <td>0.004486</td>\n",
       "      <td>0.000991</td>\n",
       "      <td>0.001570</td>\n",
       "      <td>0.001608</td>\n",
       "      <td>0.013941</td>\n",
       "      <td>0.000287</td>\n",
       "      <td>...</td>\n",
       "      <td>0.000173</td>\n",
       "      <td>0.003746</td>\n",
       "      <td>0.004676</td>\n",
       "      <td>0.003308</td>\n",
       "      <td>0.001623</td>\n",
       "      <td>0.000953</td>\n",
       "      <td>0.000778</td>\n",
       "      <td>0.000389</td>\n",
       "      <td>0.001281</td>\n",
       "      <td>0.000459</td>\n",
       "    </tr>\n",
       "    <tr>\n",
       "      <th>j</th>\n",
       "      <td>0.000559</td>\n",
       "      <td>0.000137</td>\n",
       "      <td>0.000067</td>\n",
       "      <td>0.000123</td>\n",
       "      <td>0.000383</td>\n",
       "      <td>0.000029</td>\n",
       "      <td>0.000085</td>\n",
       "      <td>0.000088</td>\n",
       "      <td>0.000287</td>\n",
       "      <td>0.001088</td>\n",
       "      <td>...</td>\n",
       "      <td>0.000003</td>\n",
       "      <td>0.000190</td>\n",
       "      <td>0.000301</td>\n",
       "      <td>0.000132</td>\n",
       "      <td>0.000328</td>\n",
       "      <td>0.000053</td>\n",
       "      <td>0.000041</td>\n",
       "      <td>0.000012</td>\n",
       "      <td>0.000143</td>\n",
       "      <td>0.000018</td>\n",
       "    </tr>\n",
       "    <tr>\n",
       "      <th>k</th>\n",
       "      <td>0.002199</td>\n",
       "      <td>0.000395</td>\n",
       "      <td>0.000877</td>\n",
       "      <td>0.000366</td>\n",
       "      <td>0.001679</td>\n",
       "      <td>0.000199</td>\n",
       "      <td>0.000181</td>\n",
       "      <td>0.000544</td>\n",
       "      <td>0.001433</td>\n",
       "      <td>0.000108</td>\n",
       "      <td>...</td>\n",
       "      <td>0.000029</td>\n",
       "      <td>0.001182</td>\n",
       "      <td>0.001895</td>\n",
       "      <td>0.000632</td>\n",
       "      <td>0.000833</td>\n",
       "      <td>0.000097</td>\n",
       "      <td>0.000298</td>\n",
       "      <td>0.000012</td>\n",
       "      <td>0.000760</td>\n",
       "      <td>0.000070</td>\n",
       "    </tr>\n",
       "    <tr>\n",
       "      <th>l</th>\n",
       "      <td>0.005399</td>\n",
       "      <td>0.001208</td>\n",
       "      <td>0.001512</td>\n",
       "      <td>0.001372</td>\n",
       "      <td>0.004691</td>\n",
       "      <td>0.000892</td>\n",
       "      <td>0.001176</td>\n",
       "      <td>0.001123</td>\n",
       "      <td>0.003328</td>\n",
       "      <td>0.000152</td>\n",
       "      <td>...</td>\n",
       "      <td>0.000044</td>\n",
       "      <td>0.001728</td>\n",
       "      <td>0.003565</td>\n",
       "      <td>0.001916</td>\n",
       "      <td>0.002167</td>\n",
       "      <td>0.000582</td>\n",
       "      <td>0.000681</td>\n",
       "      <td>0.000225</td>\n",
       "      <td>0.001787</td>\n",
       "      <td>0.000167</td>\n",
       "    </tr>\n",
       "    <tr>\n",
       "      <th>m</th>\n",
       "      <td>0.003305</td>\n",
       "      <td>0.000629</td>\n",
       "      <td>0.000763</td>\n",
       "      <td>0.000793</td>\n",
       "      <td>0.002509</td>\n",
       "      <td>0.000211</td>\n",
       "      <td>0.000515</td>\n",
       "      <td>0.000766</td>\n",
       "      <td>0.002033</td>\n",
       "      <td>0.000108</td>\n",
       "      <td>...</td>\n",
       "      <td>0.000026</td>\n",
       "      <td>0.001626</td>\n",
       "      <td>0.002161</td>\n",
       "      <td>0.001088</td>\n",
       "      <td>0.001573</td>\n",
       "      <td>0.000126</td>\n",
       "      <td>0.000190</td>\n",
       "      <td>0.000120</td>\n",
       "      <td>0.000930</td>\n",
       "      <td>0.000170</td>\n",
       "    </tr>\n",
       "    <tr>\n",
       "      <th>n</th>\n",
       "      <td>0.005062</td>\n",
       "      <td>0.000939</td>\n",
       "      <td>0.001337</td>\n",
       "      <td>0.001626</td>\n",
       "      <td>0.004121</td>\n",
       "      <td>0.000456</td>\n",
       "      <td>0.001559</td>\n",
       "      <td>0.000953</td>\n",
       "      <td>0.003802</td>\n",
       "      <td>0.000228</td>\n",
       "      <td>...</td>\n",
       "      <td>0.000047</td>\n",
       "      <td>0.002071</td>\n",
       "      <td>0.003112</td>\n",
       "      <td>0.002076</td>\n",
       "      <td>0.002182</td>\n",
       "      <td>0.000453</td>\n",
       "      <td>0.000784</td>\n",
       "      <td>0.000202</td>\n",
       "      <td>0.001421</td>\n",
       "      <td>0.000278</td>\n",
       "    </tr>\n",
       "    <tr>\n",
       "      <th>o</th>\n",
       "      <td>0.003682</td>\n",
       "      <td>0.001641</td>\n",
       "      <td>0.002468</td>\n",
       "      <td>0.002199</td>\n",
       "      <td>0.004007</td>\n",
       "      <td>0.000804</td>\n",
       "      <td>0.001608</td>\n",
       "      <td>0.001723</td>\n",
       "      <td>0.002307</td>\n",
       "      <td>0.000333</td>\n",
       "      <td>...</td>\n",
       "      <td>0.000050</td>\n",
       "      <td>0.003907</td>\n",
       "      <td>0.004574</td>\n",
       "      <td>0.003088</td>\n",
       "      <td>0.001685</td>\n",
       "      <td>0.000652</td>\n",
       "      <td>0.000980</td>\n",
       "      <td>0.000292</td>\n",
       "      <td>0.001813</td>\n",
       "      <td>0.000366</td>\n",
       "    </tr>\n",
       "    <tr>\n",
       "      <th>p</th>\n",
       "      <td>0.002626</td>\n",
       "      <td>0.000149</td>\n",
       "      <td>0.000749</td>\n",
       "      <td>0.000643</td>\n",
       "      <td>0.002477</td>\n",
       "      <td>0.000102</td>\n",
       "      <td>0.000386</td>\n",
       "      <td>0.000690</td>\n",
       "      <td>0.001699</td>\n",
       "      <td>0.000067</td>\n",
       "      <td>...</td>\n",
       "      <td>0.000020</td>\n",
       "      <td>0.001661</td>\n",
       "      <td>0.002492</td>\n",
       "      <td>0.001220</td>\n",
       "      <td>0.001234</td>\n",
       "      <td>0.000091</td>\n",
       "      <td>0.000243</td>\n",
       "      <td>0.000123</td>\n",
       "      <td>0.001027</td>\n",
       "      <td>0.000038</td>\n",
       "    </tr>\n",
       "    <tr>\n",
       "      <th>q</th>\n",
       "      <td>0.000190</td>\n",
       "      <td>0.000015</td>\n",
       "      <td>0.000020</td>\n",
       "      <td>0.000032</td>\n",
       "      <td>0.000161</td>\n",
       "      <td>0.000012</td>\n",
       "      <td>0.000009</td>\n",
       "      <td>0.000018</td>\n",
       "      <td>0.000173</td>\n",
       "      <td>0.000003</td>\n",
       "      <td>...</td>\n",
       "      <td>0.000407</td>\n",
       "      <td>0.000067</td>\n",
       "      <td>0.000120</td>\n",
       "      <td>0.000097</td>\n",
       "      <td>0.000360</td>\n",
       "      <td>0.000006</td>\n",
       "      <td>0.000009</td>\n",
       "      <td>0.000000</td>\n",
       "      <td>0.000020</td>\n",
       "      <td>0.000009</td>\n",
       "    </tr>\n",
       "    <tr>\n",
       "      <th>r</th>\n",
       "      <td>0.006413</td>\n",
       "      <td>0.001641</td>\n",
       "      <td>0.002015</td>\n",
       "      <td>0.002038</td>\n",
       "      <td>0.006510</td>\n",
       "      <td>0.001053</td>\n",
       "      <td>0.001532</td>\n",
       "      <td>0.001451</td>\n",
       "      <td>0.003746</td>\n",
       "      <td>0.000190</td>\n",
       "      <td>...</td>\n",
       "      <td>0.000067</td>\n",
       "      <td>0.014225</td>\n",
       "      <td>0.004156</td>\n",
       "      <td>0.003036</td>\n",
       "      <td>0.002655</td>\n",
       "      <td>0.000705</td>\n",
       "      <td>0.000798</td>\n",
       "      <td>0.000219</td>\n",
       "      <td>0.001869</td>\n",
       "      <td>0.000263</td>\n",
       "    </tr>\n",
       "    <tr>\n",
       "      <th>s</th>\n",
       "      <td>0.006908</td>\n",
       "      <td>0.001497</td>\n",
       "      <td>0.002132</td>\n",
       "      <td>0.001971</td>\n",
       "      <td>0.006627</td>\n",
       "      <td>0.001082</td>\n",
       "      <td>0.001421</td>\n",
       "      <td>0.002173</td>\n",
       "      <td>0.004676</td>\n",
       "      <td>0.000301</td>\n",
       "      <td>...</td>\n",
       "      <td>0.000120</td>\n",
       "      <td>0.004156</td>\n",
       "      <td>0.017170</td>\n",
       "      <td>0.004132</td>\n",
       "      <td>0.003454</td>\n",
       "      <td>0.000640</td>\n",
       "      <td>0.001246</td>\n",
       "      <td>0.000257</td>\n",
       "      <td>0.001796</td>\n",
       "      <td>0.000237</td>\n",
       "    </tr>\n",
       "    <tr>\n",
       "      <th>t</th>\n",
       "      <td>0.004732</td>\n",
       "      <td>0.000971</td>\n",
       "      <td>0.001377</td>\n",
       "      <td>0.000974</td>\n",
       "      <td>0.004571</td>\n",
       "      <td>0.000708</td>\n",
       "      <td>0.000787</td>\n",
       "      <td>0.001714</td>\n",
       "      <td>0.003308</td>\n",
       "      <td>0.000132</td>\n",
       "      <td>...</td>\n",
       "      <td>0.000097</td>\n",
       "      <td>0.003036</td>\n",
       "      <td>0.004132</td>\n",
       "      <td>0.011306</td>\n",
       "      <td>0.002264</td>\n",
       "      <td>0.000322</td>\n",
       "      <td>0.000696</td>\n",
       "      <td>0.000175</td>\n",
       "      <td>0.001360</td>\n",
       "      <td>0.000178</td>\n",
       "    </tr>\n",
       "    <tr>\n",
       "      <th>u</th>\n",
       "      <td>0.002992</td>\n",
       "      <td>0.001325</td>\n",
       "      <td>0.001486</td>\n",
       "      <td>0.001459</td>\n",
       "      <td>0.002498</td>\n",
       "      <td>0.000690</td>\n",
       "      <td>0.001272</td>\n",
       "      <td>0.001088</td>\n",
       "      <td>0.001623</td>\n",
       "      <td>0.000328</td>\n",
       "      <td>...</td>\n",
       "      <td>0.000360</td>\n",
       "      <td>0.002655</td>\n",
       "      <td>0.003454</td>\n",
       "      <td>0.002264</td>\n",
       "      <td>0.009478</td>\n",
       "      <td>0.000290</td>\n",
       "      <td>0.000187</td>\n",
       "      <td>0.000152</td>\n",
       "      <td>0.001179</td>\n",
       "      <td>0.000190</td>\n",
       "    </tr>\n",
       "    <tr>\n",
       "      <th>v</th>\n",
       "      <td>0.001199</td>\n",
       "      <td>0.000094</td>\n",
       "      <td>0.000281</td>\n",
       "      <td>0.000339</td>\n",
       "      <td>0.001492</td>\n",
       "      <td>0.000035</td>\n",
       "      <td>0.000164</td>\n",
       "      <td>0.000158</td>\n",
       "      <td>0.000953</td>\n",
       "      <td>0.000053</td>\n",
       "      <td>...</td>\n",
       "      <td>0.000006</td>\n",
       "      <td>0.000705</td>\n",
       "      <td>0.000640</td>\n",
       "      <td>0.000322</td>\n",
       "      <td>0.000290</td>\n",
       "      <td>0.002495</td>\n",
       "      <td>0.000102</td>\n",
       "      <td>0.000032</td>\n",
       "      <td>0.000260</td>\n",
       "      <td>0.000015</td>\n",
       "    </tr>\n",
       "    <tr>\n",
       "      <th>w</th>\n",
       "      <td>0.001465</td>\n",
       "      <td>0.000205</td>\n",
       "      <td>0.000243</td>\n",
       "      <td>0.000535</td>\n",
       "      <td>0.001489</td>\n",
       "      <td>0.000164</td>\n",
       "      <td>0.000222</td>\n",
       "      <td>0.000629</td>\n",
       "      <td>0.000778</td>\n",
       "      <td>0.000041</td>\n",
       "      <td>...</td>\n",
       "      <td>0.000009</td>\n",
       "      <td>0.000798</td>\n",
       "      <td>0.001246</td>\n",
       "      <td>0.000696</td>\n",
       "      <td>0.000187</td>\n",
       "      <td>0.000102</td>\n",
       "      <td>0.003392</td>\n",
       "      <td>0.000032</td>\n",
       "      <td>0.000515</td>\n",
       "      <td>0.000053</td>\n",
       "    </tr>\n",
       "    <tr>\n",
       "      <th>x</th>\n",
       "      <td>0.000377</td>\n",
       "      <td>0.000073</td>\n",
       "      <td>0.000099</td>\n",
       "      <td>0.000170</td>\n",
       "      <td>0.000626</td>\n",
       "      <td>0.000076</td>\n",
       "      <td>0.000018</td>\n",
       "      <td>0.000050</td>\n",
       "      <td>0.000389</td>\n",
       "      <td>0.000012</td>\n",
       "      <td>...</td>\n",
       "      <td>0.000000</td>\n",
       "      <td>0.000219</td>\n",
       "      <td>0.000257</td>\n",
       "      <td>0.000175</td>\n",
       "      <td>0.000152</td>\n",
       "      <td>0.000032</td>\n",
       "      <td>0.000032</td>\n",
       "      <td>0.001044</td>\n",
       "      <td>0.000143</td>\n",
       "      <td>0.000006</td>\n",
       "    </tr>\n",
       "    <tr>\n",
       "      <th>y</th>\n",
       "      <td>0.002606</td>\n",
       "      <td>0.000866</td>\n",
       "      <td>0.000948</td>\n",
       "      <td>0.001179</td>\n",
       "      <td>0.002155</td>\n",
       "      <td>0.000509</td>\n",
       "      <td>0.000816</td>\n",
       "      <td>0.000749</td>\n",
       "      <td>0.001281</td>\n",
       "      <td>0.000143</td>\n",
       "      <td>...</td>\n",
       "      <td>0.000020</td>\n",
       "      <td>0.001869</td>\n",
       "      <td>0.001796</td>\n",
       "      <td>0.001360</td>\n",
       "      <td>0.001179</td>\n",
       "      <td>0.000260</td>\n",
       "      <td>0.000515</td>\n",
       "      <td>0.000143</td>\n",
       "      <td>0.007241</td>\n",
       "      <td>0.000173</td>\n",
       "    </tr>\n",
       "    <tr>\n",
       "      <th>z</th>\n",
       "      <td>0.000646</td>\n",
       "      <td>0.000149</td>\n",
       "      <td>0.000108</td>\n",
       "      <td>0.000123</td>\n",
       "      <td>0.000579</td>\n",
       "      <td>0.000079</td>\n",
       "      <td>0.000099</td>\n",
       "      <td>0.000105</td>\n",
       "      <td>0.000459</td>\n",
       "      <td>0.000018</td>\n",
       "      <td>...</td>\n",
       "      <td>0.000009</td>\n",
       "      <td>0.000263</td>\n",
       "      <td>0.000237</td>\n",
       "      <td>0.000178</td>\n",
       "      <td>0.000190</td>\n",
       "      <td>0.000015</td>\n",
       "      <td>0.000053</td>\n",
       "      <td>0.000006</td>\n",
       "      <td>0.000173</td>\n",
       "      <td>0.001272</td>\n",
       "    </tr>\n",
       "  </tbody>\n",
       "</table>\n",
       "<p>26 rows × 26 columns</p>\n",
       "</div>"
      ],
      "text/plain": [
       "          a         b         c         d         e         f         g  \\\n",
       "a  0.021194  0.002553  0.003305  0.003167  0.006662  0.001217  0.002395   \n",
       "b  0.002553  0.005662  0.000529  0.000678  0.002240  0.000143  0.000483   \n",
       "c  0.003305  0.000529  0.007569  0.000737  0.002600  0.000330  0.000275   \n",
       "d  0.003167  0.000678  0.000737  0.007718  0.003875  0.000386  0.000661   \n",
       "e  0.006662  0.002240  0.002600  0.003875  0.019676  0.001258  0.002112   \n",
       "f  0.001217  0.000143  0.000330  0.000386  0.001258  0.003261  0.000252   \n",
       "g  0.002395  0.000483  0.000275  0.000661  0.002112  0.000252  0.005460   \n",
       "h  0.002831  0.000436  0.001606  0.000611  0.002190  0.000231  0.000521   \n",
       "i  0.004688  0.001430  0.002176  0.002381  0.004486  0.000991  0.001570   \n",
       "j  0.000559  0.000137  0.000067  0.000123  0.000383  0.000029  0.000085   \n",
       "k  0.002199  0.000395  0.000877  0.000366  0.001679  0.000199  0.000181   \n",
       "l  0.005399  0.001208  0.001512  0.001372  0.004691  0.000892  0.001176   \n",
       "m  0.003305  0.000629  0.000763  0.000793  0.002509  0.000211  0.000515   \n",
       "n  0.005062  0.000939  0.001337  0.001626  0.004121  0.000456  0.001559   \n",
       "o  0.003682  0.001641  0.002468  0.002199  0.004007  0.000804  0.001608   \n",
       "p  0.002626  0.000149  0.000749  0.000643  0.002477  0.000102  0.000386   \n",
       "q  0.000190  0.000015  0.000020  0.000032  0.000161  0.000012  0.000009   \n",
       "r  0.006413  0.001641  0.002015  0.002038  0.006510  0.001053  0.001532   \n",
       "s  0.006908  0.001497  0.002132  0.001971  0.006627  0.001082  0.001421   \n",
       "t  0.004732  0.000971  0.001377  0.000974  0.004571  0.000708  0.000787   \n",
       "u  0.002992  0.001325  0.001486  0.001459  0.002498  0.000690  0.001272   \n",
       "v  0.001199  0.000094  0.000281  0.000339  0.001492  0.000035  0.000164   \n",
       "w  0.001465  0.000205  0.000243  0.000535  0.001489  0.000164  0.000222   \n",
       "x  0.000377  0.000073  0.000099  0.000170  0.000626  0.000076  0.000018   \n",
       "y  0.002606  0.000866  0.000948  0.001179  0.002155  0.000509  0.000816   \n",
       "z  0.000646  0.000149  0.000108  0.000123  0.000579  0.000079  0.000099   \n",
       "\n",
       "          h         i         j  ...         q         r         s         t  \\\n",
       "a  0.002831  0.004688  0.000559  ...  0.000190  0.006413  0.006908  0.004732   \n",
       "b  0.000436  0.001430  0.000137  ...  0.000015  0.001641  0.001497  0.000971   \n",
       "c  0.001606  0.002176  0.000067  ...  0.000020  0.002015  0.002132  0.001377   \n",
       "d  0.000611  0.002381  0.000123  ...  0.000032  0.002038  0.001971  0.000974   \n",
       "e  0.002190  0.004486  0.000383  ...  0.000161  0.006510  0.006627  0.004571   \n",
       "f  0.000231  0.000991  0.000029  ...  0.000012  0.001053  0.001082  0.000708   \n",
       "g  0.000521  0.001570  0.000085  ...  0.000009  0.001532  0.001421  0.000787   \n",
       "h  0.006501  0.001608  0.000088  ...  0.000018  0.001451  0.002173  0.001714   \n",
       "i  0.001608  0.013941  0.000287  ...  0.000173  0.003746  0.004676  0.003308   \n",
       "j  0.000088  0.000287  0.001088  ...  0.000003  0.000190  0.000301  0.000132   \n",
       "k  0.000544  0.001433  0.000108  ...  0.000029  0.001182  0.001895  0.000632   \n",
       "l  0.001123  0.003328  0.000152  ...  0.000044  0.001728  0.003565  0.001916   \n",
       "m  0.000766  0.002033  0.000108  ...  0.000026  0.001626  0.002161  0.001088   \n",
       "n  0.000953  0.003802  0.000228  ...  0.000047  0.002071  0.003112  0.002076   \n",
       "o  0.001723  0.002307  0.000333  ...  0.000050  0.003907  0.004574  0.003088   \n",
       "p  0.000690  0.001699  0.000067  ...  0.000020  0.001661  0.002492  0.001220   \n",
       "q  0.000018  0.000173  0.000003  ...  0.000407  0.000067  0.000120  0.000097   \n",
       "r  0.001451  0.003746  0.000190  ...  0.000067  0.014225  0.004156  0.003036   \n",
       "s  0.002173  0.004676  0.000301  ...  0.000120  0.004156  0.017170  0.004132   \n",
       "t  0.001714  0.003308  0.000132  ...  0.000097  0.003036  0.004132  0.011306   \n",
       "u  0.001088  0.001623  0.000328  ...  0.000360  0.002655  0.003454  0.002264   \n",
       "v  0.000158  0.000953  0.000053  ...  0.000006  0.000705  0.000640  0.000322   \n",
       "w  0.000629  0.000778  0.000041  ...  0.000009  0.000798  0.001246  0.000696   \n",
       "x  0.000050  0.000389  0.000012  ...  0.000000  0.000219  0.000257  0.000175   \n",
       "y  0.000749  0.001281  0.000143  ...  0.000020  0.001869  0.001796  0.001360   \n",
       "z  0.000105  0.000459  0.000018  ...  0.000009  0.000263  0.000237  0.000178   \n",
       "\n",
       "          u         v         w         x         y         z  \n",
       "a  0.002992  0.001199  0.001465  0.000377  0.002606  0.000646  \n",
       "b  0.001325  0.000094  0.000205  0.000073  0.000866  0.000149  \n",
       "c  0.001486  0.000281  0.000243  0.000099  0.000948  0.000108  \n",
       "d  0.001459  0.000339  0.000535  0.000170  0.001179  0.000123  \n",
       "e  0.002498  0.001492  0.001489  0.000626  0.002155  0.000579  \n",
       "f  0.000690  0.000035  0.000164  0.000076  0.000509  0.000079  \n",
       "g  0.001272  0.000164  0.000222  0.000018  0.000816  0.000099  \n",
       "h  0.001088  0.000158  0.000629  0.000050  0.000749  0.000105  \n",
       "i  0.001623  0.000953  0.000778  0.000389  0.001281  0.000459  \n",
       "j  0.000328  0.000053  0.000041  0.000012  0.000143  0.000018  \n",
       "k  0.000833  0.000097  0.000298  0.000012  0.000760  0.000070  \n",
       "l  0.002167  0.000582  0.000681  0.000225  0.001787  0.000167  \n",
       "m  0.001573  0.000126  0.000190  0.000120  0.000930  0.000170  \n",
       "n  0.002182  0.000453  0.000784  0.000202  0.001421  0.000278  \n",
       "o  0.001685  0.000652  0.000980  0.000292  0.001813  0.000366  \n",
       "p  0.001234  0.000091  0.000243  0.000123  0.001027  0.000038  \n",
       "q  0.000360  0.000006  0.000009  0.000000  0.000020  0.000009  \n",
       "r  0.002655  0.000705  0.000798  0.000219  0.001869  0.000263  \n",
       "s  0.003454  0.000640  0.001246  0.000257  0.001796  0.000237  \n",
       "t  0.002264  0.000322  0.000696  0.000175  0.001360  0.000178  \n",
       "u  0.009478  0.000290  0.000187  0.000152  0.001179  0.000190  \n",
       "v  0.000290  0.002495  0.000102  0.000032  0.000260  0.000015  \n",
       "w  0.000187  0.000102  0.003392  0.000032  0.000515  0.000053  \n",
       "x  0.000152  0.000032  0.000032  0.001044  0.000143  0.000006  \n",
       "y  0.001179  0.000260  0.000515  0.000143  0.007241  0.000173  \n",
       "z  0.000190  0.000015  0.000053  0.000006  0.000173  0.001272  \n",
       "\n",
       "[26 rows x 26 columns]"
      ]
     },
     "execution_count": 5,
     "metadata": {},
     "output_type": "execute_result"
    }
   ],
   "source": [
    "##Joint Probability \n",
    "#Note: issue with self-letter probabilities\n",
    "\n",
    "A=np.transpose(let_hit).dot(let_hit)\n",
    "s = np.sum(np.sum(A))\n",
    "J = A/s\n",
    "J"
   ]
  },
  {
   "cell_type": "code",
   "execution_count": 6,
   "metadata": {
    "ExecuteTime": {
     "end_time": "2022-01-20T05:25:57.304675Z",
     "start_time": "2022-01-20T05:25:57.265683Z"
    }
   },
   "outputs": [
    {
     "data": {
      "text/plain": [
       "a    0.098372\n",
       "b    0.026087\n",
       "c    0.035609\n",
       "d    0.036156\n",
       "e    0.091672\n",
       "f    0.015170\n",
       "g    0.025578\n",
       "h    0.030556\n",
       "i    0.065548\n",
       "j    0.005062\n",
       "k    0.022727\n",
       "l    0.053510\n",
       "m    0.032038\n",
       "n    0.051703\n",
       "o    0.063021\n",
       "p    0.029266\n",
       "q    0.001942\n",
       "r    0.066758\n",
       "s    0.079796\n",
       "t    0.052858\n",
       "u    0.044643\n",
       "v    0.011634\n",
       "w    0.015977\n",
       "x    0.004925\n",
       "y    0.033544\n",
       "z    0.005849\n",
       "dtype: float64"
      ]
     },
     "execution_count": 6,
     "metadata": {},
     "output_type": "execute_result"
    }
   ],
   "source": [
    "np.sum(J)"
   ]
  },
  {
   "cell_type": "code",
   "execution_count": 6,
   "metadata": {
    "ExecuteTime": {
     "end_time": "2022-02-08T01:13:22.396676Z",
     "start_time": "2022-02-08T01:13:20.998237Z"
    }
   },
   "outputs": [
    {
     "data": {
      "text/html": [
       "<div>\n",
       "<style scoped>\n",
       "    .dataframe tbody tr th:only-of-type {\n",
       "        vertical-align: middle;\n",
       "    }\n",
       "\n",
       "    .dataframe tbody tr th {\n",
       "        vertical-align: top;\n",
       "    }\n",
       "\n",
       "    .dataframe thead th {\n",
       "        text-align: right;\n",
       "    }\n",
       "</style>\n",
       "<table border=\"1\" class=\"dataframe\">\n",
       "  <thead>\n",
       "    <tr style=\"text-align: right;\">\n",
       "      <th></th>\n",
       "      <th>a</th>\n",
       "      <th>b</th>\n",
       "      <th>c</th>\n",
       "      <th>d</th>\n",
       "      <th>e</th>\n",
       "      <th>f</th>\n",
       "      <th>g</th>\n",
       "      <th>h</th>\n",
       "      <th>i</th>\n",
       "      <th>j</th>\n",
       "      <th>...</th>\n",
       "      <th>q</th>\n",
       "      <th>r</th>\n",
       "      <th>s</th>\n",
       "      <th>t</th>\n",
       "      <th>u</th>\n",
       "      <th>v</th>\n",
       "      <th>w</th>\n",
       "      <th>x</th>\n",
       "      <th>y</th>\n",
       "      <th>z</th>\n",
       "    </tr>\n",
       "  </thead>\n",
       "  <tbody>\n",
       "    <tr>\n",
       "      <th>a</th>\n",
       "      <td>0.398299</td>\n",
       "      <td>0.001299</td>\n",
       "      <td>-0.006826</td>\n",
       "      <td>-0.012563</td>\n",
       "      <td>-0.101224</td>\n",
       "      <td>-1.015744e-02</td>\n",
       "      <td>-0.002583</td>\n",
       "      <td>-0.004846</td>\n",
       "      <td>-0.053988</td>\n",
       "      <td>0.002750</td>\n",
       "      <td>...</td>\n",
       "      <td>-0.000080</td>\n",
       "      <td>-6.370511e-03</td>\n",
       "      <td>-0.037464</td>\n",
       "      <td>-0.016174</td>\n",
       "      <td>-0.040204</td>\n",
       "      <td>0.001704</td>\n",
       "      <td>-0.003101</td>\n",
       "      <td>-0.002973</td>\n",
       "      <td>-0.021240</td>\n",
       "      <td>0.001263</td>\n",
       "    </tr>\n",
       "    <tr>\n",
       "      <th>b</th>\n",
       "      <td>0.001299</td>\n",
       "      <td>0.133998</td>\n",
       "      <td>-0.010185</td>\n",
       "      <td>-0.007533</td>\n",
       "      <td>-0.006888</td>\n",
       "      <td>-5.997929e-03</td>\n",
       "      <td>-0.005068</td>\n",
       "      <td>-0.008968</td>\n",
       "      <td>-0.006783</td>\n",
       "      <td>0.000104</td>\n",
       "      <td>...</td>\n",
       "      <td>-0.000769</td>\n",
       "      <td>-4.394171e-03</td>\n",
       "      <td>-0.016956</td>\n",
       "      <td>-0.011544</td>\n",
       "      <td>0.004518</td>\n",
       "      <td>-0.005103</td>\n",
       "      <td>-0.005069</td>\n",
       "      <td>-0.001406</td>\n",
       "      <td>0.001329</td>\n",
       "      <td>-0.000139</td>\n",
       "    </tr>\n",
       "    <tr>\n",
       "      <th>c</th>\n",
       "      <td>-0.006826</td>\n",
       "      <td>-0.010185</td>\n",
       "      <td>0.162655</td>\n",
       "      <td>-0.013858</td>\n",
       "      <td>-0.019890</td>\n",
       "      <td>-5.366007e-03</td>\n",
       "      <td>-0.015378</td>\n",
       "      <td>0.013399</td>\n",
       "      <td>-0.002228</td>\n",
       "      <td>-0.002627</td>\n",
       "      <td>...</td>\n",
       "      <td>-0.001066</td>\n",
       "      <td>-9.585234e-03</td>\n",
       "      <td>-0.020096</td>\n",
       "      <td>-0.013578</td>\n",
       "      <td>-0.001595</td>\n",
       "      <td>-0.003352</td>\n",
       "      <td>-0.007405</td>\n",
       "      <td>-0.001774</td>\n",
       "      <td>-0.005565</td>\n",
       "      <td>-0.002558</td>\n",
       "    </tr>\n",
       "    <tr>\n",
       "      <th>d</th>\n",
       "      <td>-0.012563</td>\n",
       "      <td>-0.007533</td>\n",
       "      <td>-0.013858</td>\n",
       "      <td>0.167908</td>\n",
       "      <td>0.014423</td>\n",
       "      <td>-4.688167e-03</td>\n",
       "      <td>-0.006726</td>\n",
       "      <td>-0.011770</td>\n",
       "      <td>0.002903</td>\n",
       "      <td>-0.001470</td>\n",
       "      <td>...</td>\n",
       "      <td>-0.000851</td>\n",
       "      <td>-1.031698e-02</td>\n",
       "      <td>-0.026474</td>\n",
       "      <td>-0.024298</td>\n",
       "      <td>-0.003363</td>\n",
       "      <td>-0.002013</td>\n",
       "      <td>-0.000866</td>\n",
       "      <td>-0.000298</td>\n",
       "      <td>0.000554</td>\n",
       "      <td>-0.002306</td>\n",
       "    </tr>\n",
       "    <tr>\n",
       "      <th>e</th>\n",
       "      <td>-0.101224</td>\n",
       "      <td>-0.006888</td>\n",
       "      <td>-0.019890</td>\n",
       "      <td>0.014423</td>\n",
       "      <td>0.390520</td>\n",
       "      <td>-6.008293e-03</td>\n",
       "      <td>-0.005768</td>\n",
       "      <td>-0.016032</td>\n",
       "      <td>-0.052767</td>\n",
       "      <td>-0.002277</td>\n",
       "      <td>...</td>\n",
       "      <td>-0.000384</td>\n",
       "      <td>1.431626e-02</td>\n",
       "      <td>-0.021311</td>\n",
       "      <td>-0.008648</td>\n",
       "      <td>-0.045230</td>\n",
       "      <td>0.012802</td>\n",
       "      <td>0.001960</td>\n",
       "      <td>0.005096</td>\n",
       "      <td>-0.026218</td>\n",
       "      <td>0.000235</td>\n",
       "    </tr>\n",
       "    <tr>\n",
       "      <th>f</th>\n",
       "      <td>-0.010157</td>\n",
       "      <td>-0.005998</td>\n",
       "      <td>-0.005366</td>\n",
       "      <td>-0.004688</td>\n",
       "      <td>-0.006008</td>\n",
       "      <td>8.781280e-02</td>\n",
       "      <td>-0.003285</td>\n",
       "      <td>-0.005631</td>\n",
       "      <td>-0.000068</td>\n",
       "      <td>-0.001083</td>\n",
       "      <td>...</td>\n",
       "      <td>-0.000302</td>\n",
       "      <td>6.551766e-07</td>\n",
       "      <td>-0.004612</td>\n",
       "      <td>-0.003631</td>\n",
       "      <td>0.001546</td>\n",
       "      <td>-0.003536</td>\n",
       "      <td>-0.001952</td>\n",
       "      <td>-0.000068</td>\n",
       "      <td>0.000121</td>\n",
       "      <td>-0.000306</td>\n",
       "    </tr>\n",
       "    <tr>\n",
       "      <th>g</th>\n",
       "      <td>-0.002583</td>\n",
       "      <td>-0.005068</td>\n",
       "      <td>-0.015378</td>\n",
       "      <td>-0.006726</td>\n",
       "      <td>-0.005768</td>\n",
       "      <td>-3.285276e-03</td>\n",
       "      <td>0.122067</td>\n",
       "      <td>-0.005768</td>\n",
       "      <td>-0.003041</td>\n",
       "      <td>-0.000915</td>\n",
       "      <td>...</td>\n",
       "      <td>-0.000893</td>\n",
       "      <td>-5.077401e-03</td>\n",
       "      <td>-0.016236</td>\n",
       "      <td>-0.015059</td>\n",
       "      <td>0.003005</td>\n",
       "      <td>-0.003186</td>\n",
       "      <td>-0.004146</td>\n",
       "      <td>-0.002431</td>\n",
       "      <td>0.000556</td>\n",
       "      <td>-0.001488</td>\n",
       "    </tr>\n",
       "    <tr>\n",
       "      <th>h</th>\n",
       "      <td>-0.004846</td>\n",
       "      <td>-0.008968</td>\n",
       "      <td>0.013399</td>\n",
       "      <td>-0.011770</td>\n",
       "      <td>-0.016032</td>\n",
       "      <td>-5.631393e-03</td>\n",
       "      <td>-0.005768</td>\n",
       "      <td>0.130570</td>\n",
       "      <td>-0.008610</td>\n",
       "      <td>-0.001442</td>\n",
       "      <td>...</td>\n",
       "      <td>-0.000876</td>\n",
       "      <td>-1.394391e-02</td>\n",
       "      <td>-0.006469</td>\n",
       "      <td>0.002384</td>\n",
       "      <td>-0.005482</td>\n",
       "      <td>-0.004522</td>\n",
       "      <td>0.003517</td>\n",
       "      <td>-0.002186</td>\n",
       "      <td>-0.006077</td>\n",
       "      <td>-0.001760</td>\n",
       "    </tr>\n",
       "    <tr>\n",
       "      <th>i</th>\n",
       "      <td>-0.053988</td>\n",
       "      <td>-0.006783</td>\n",
       "      <td>-0.002228</td>\n",
       "      <td>0.002903</td>\n",
       "      <td>-0.052767</td>\n",
       "      <td>-6.777526e-05</td>\n",
       "      <td>-0.003041</td>\n",
       "      <td>-0.008610</td>\n",
       "      <td>0.255204</td>\n",
       "      <td>-0.000923</td>\n",
       "      <td>...</td>\n",
       "      <td>0.001053</td>\n",
       "      <td>-1.558799e-02</td>\n",
       "      <td>-0.014818</td>\n",
       "      <td>-0.004362</td>\n",
       "      <td>-0.031279</td>\n",
       "      <td>0.005624</td>\n",
       "      <td>-0.006016</td>\n",
       "      <td>0.002330</td>\n",
       "      <td>-0.022836</td>\n",
       "      <td>0.002269</td>\n",
       "    </tr>\n",
       "    <tr>\n",
       "      <th>j</th>\n",
       "      <td>0.002750</td>\n",
       "      <td>0.000104</td>\n",
       "      <td>-0.002627</td>\n",
       "      <td>-0.001470</td>\n",
       "      <td>-0.002277</td>\n",
       "      <td>-1.083299e-03</td>\n",
       "      <td>-0.000915</td>\n",
       "      <td>-0.001442</td>\n",
       "      <td>-0.000923</td>\n",
       "      <td>0.023567</td>\n",
       "      <td>...</td>\n",
       "      <td>-0.000143</td>\n",
       "      <td>-3.297299e-03</td>\n",
       "      <td>-0.002727</td>\n",
       "      <td>-0.003201</td>\n",
       "      <td>0.002426</td>\n",
       "      <td>-0.000172</td>\n",
       "      <td>-0.000858</td>\n",
       "      <td>-0.000284</td>\n",
       "      <td>-0.000663</td>\n",
       "      <td>-0.000264</td>\n",
       "    </tr>\n",
       "    <tr>\n",
       "      <th>k</th>\n",
       "      <td>0.000508</td>\n",
       "      <td>-0.005387</td>\n",
       "      <td>0.001793</td>\n",
       "      <td>-0.010982</td>\n",
       "      <td>-0.010749</td>\n",
       "      <td>-4.056001e-03</td>\n",
       "      <td>-0.009601</td>\n",
       "      <td>-0.003713</td>\n",
       "      <td>-0.000429</td>\n",
       "      <td>-0.000262</td>\n",
       "      <td>...</td>\n",
       "      <td>-0.000328</td>\n",
       "      <td>-9.119288e-03</td>\n",
       "      <td>0.000641</td>\n",
       "      <td>-0.014745</td>\n",
       "      <td>-0.003520</td>\n",
       "      <td>-0.003904</td>\n",
       "      <td>-0.001647</td>\n",
       "      <td>-0.002232</td>\n",
       "      <td>-0.000191</td>\n",
       "      <td>-0.001690</td>\n",
       "    </tr>\n",
       "    <tr>\n",
       "      <th>l</th>\n",
       "      <td>0.001099</td>\n",
       "      <td>-0.006297</td>\n",
       "      <td>-0.011054</td>\n",
       "      <td>-0.015255</td>\n",
       "      <td>-0.010152</td>\n",
       "      <td>2.998893e-04</td>\n",
       "      <td>-0.005953</td>\n",
       "      <td>-0.012140</td>\n",
       "      <td>-0.002675</td>\n",
       "      <td>-0.002720</td>\n",
       "      <td>...</td>\n",
       "      <td>-0.001261</td>\n",
       "      <td>-4.692181e-02</td>\n",
       "      <td>-0.021027</td>\n",
       "      <td>-0.026034</td>\n",
       "      <td>-0.005122</td>\n",
       "      <td>-0.001332</td>\n",
       "      <td>-0.003729</td>\n",
       "      <td>-0.000961</td>\n",
       "      <td>0.002422</td>\n",
       "      <td>-0.003985</td>\n",
       "    </tr>\n",
       "    <tr>\n",
       "      <th>m</th>\n",
       "      <td>0.006481</td>\n",
       "      <td>-0.006301</td>\n",
       "      <td>-0.009482</td>\n",
       "      <td>-0.009827</td>\n",
       "      <td>-0.011942</td>\n",
       "      <td>-7.348579e-03</td>\n",
       "      <td>-0.007339</td>\n",
       "      <td>-0.005708</td>\n",
       "      <td>0.000258</td>\n",
       "      <td>-0.001125</td>\n",
       "      <td>...</td>\n",
       "      <td>-0.000803</td>\n",
       "      <td>-1.355751e-02</td>\n",
       "      <td>-0.012201</td>\n",
       "      <td>-0.016355</td>\n",
       "      <td>0.003795</td>\n",
       "      <td>-0.005878</td>\n",
       "      <td>-0.007255</td>\n",
       "      <td>-0.000852</td>\n",
       "      <td>-0.001821</td>\n",
       "      <td>-0.000456</td>\n",
       "    </tr>\n",
       "    <tr>\n",
       "      <th>n</th>\n",
       "      <td>-0.000281</td>\n",
       "      <td>-0.011848</td>\n",
       "      <td>-0.013002</td>\n",
       "      <td>-0.007348</td>\n",
       "      <td>-0.017222</td>\n",
       "      <td>-9.074488e-03</td>\n",
       "      <td>0.003480</td>\n",
       "      <td>-0.015274</td>\n",
       "      <td>0.012442</td>\n",
       "      <td>-0.000408</td>\n",
       "      <td>...</td>\n",
       "      <td>-0.001213</td>\n",
       "      <td>-3.576468e-02</td>\n",
       "      <td>-0.031371</td>\n",
       "      <td>-0.017966</td>\n",
       "      <td>-0.000355</td>\n",
       "      <td>-0.003958</td>\n",
       "      <td>-0.000906</td>\n",
       "      <td>-0.001111</td>\n",
       "      <td>-0.005611</td>\n",
       "      <td>-0.001281</td>\n",
       "    </tr>\n",
       "    <tr>\n",
       "      <th>o</th>\n",
       "      <td>-0.086541</td>\n",
       "      <td>0.001010</td>\n",
       "      <td>0.006932</td>\n",
       "      <td>-0.002365</td>\n",
       "      <td>-0.068755</td>\n",
       "      <td>-4.140250e-03</td>\n",
       "      <td>-0.000328</td>\n",
       "      <td>-0.003697</td>\n",
       "      <td>-0.050783</td>\n",
       "      <td>-0.000017</td>\n",
       "      <td>...</td>\n",
       "      <td>-0.001795</td>\n",
       "      <td>-8.495584e-03</td>\n",
       "      <td>-0.013211</td>\n",
       "      <td>-0.006750</td>\n",
       "      <td>-0.032290</td>\n",
       "      <td>-0.003259</td>\n",
       "      <td>-0.000813</td>\n",
       "      <td>-0.000777</td>\n",
       "      <td>-0.007700</td>\n",
       "      <td>0.000226</td>\n",
       "    </tr>\n",
       "    <tr>\n",
       "      <th>p</th>\n",
       "      <td>-0.006788</td>\n",
       "      <td>-0.015625</td>\n",
       "      <td>-0.008312</td>\n",
       "      <td>-0.010617</td>\n",
       "      <td>-0.007887</td>\n",
       "      <td>-8.469026e-03</td>\n",
       "      <td>-0.008838</td>\n",
       "      <td>-0.004955</td>\n",
       "      <td>-0.004889</td>\n",
       "      <td>-0.001967</td>\n",
       "      <td>...</td>\n",
       "      <td>-0.000821</td>\n",
       "      <td>-8.405580e-03</td>\n",
       "      <td>0.001563</td>\n",
       "      <td>-0.009236</td>\n",
       "      <td>-0.000906</td>\n",
       "      <td>-0.005956</td>\n",
       "      <td>-0.005222</td>\n",
       "      <td>-0.000637</td>\n",
       "      <td>0.002758</td>\n",
       "      <td>-0.003296</td>\n",
       "    </tr>\n",
       "    <tr>\n",
       "      <th>q</th>\n",
       "      <td>-0.000080</td>\n",
       "      <td>-0.000769</td>\n",
       "      <td>-0.001066</td>\n",
       "      <td>-0.000851</td>\n",
       "      <td>-0.000384</td>\n",
       "      <td>-3.022259e-04</td>\n",
       "      <td>-0.000893</td>\n",
       "      <td>-0.000876</td>\n",
       "      <td>0.001053</td>\n",
       "      <td>-0.000143</td>\n",
       "      <td>...</td>\n",
       "      <td>0.008657</td>\n",
       "      <td>-1.376514e-03</td>\n",
       "      <td>-0.000948</td>\n",
       "      <td>-0.000162</td>\n",
       "      <td>0.006386</td>\n",
       "      <td>-0.000356</td>\n",
       "      <td>-0.000454</td>\n",
       "      <td>-0.000198</td>\n",
       "      <td>-0.000943</td>\n",
       "      <td>-0.000072</td>\n",
       "    </tr>\n",
       "    <tr>\n",
       "      <th>r</th>\n",
       "      <td>-0.006371</td>\n",
       "      <td>-0.004394</td>\n",
       "      <td>-0.009585</td>\n",
       "      <td>-0.010317</td>\n",
       "      <td>0.014316</td>\n",
       "      <td>6.551766e-07</td>\n",
       "      <td>-0.005077</td>\n",
       "      <td>-0.013944</td>\n",
       "      <td>-0.015588</td>\n",
       "      <td>-0.003297</td>\n",
       "      <td>...</td>\n",
       "      <td>-0.001377</td>\n",
       "      <td>2.540259e-01</td>\n",
       "      <td>-0.036317</td>\n",
       "      <td>-0.014163</td>\n",
       "      <td>-0.005209</td>\n",
       "      <td>-0.001990</td>\n",
       "      <td>-0.005801</td>\n",
       "      <td>-0.002553</td>\n",
       "      <td>-0.006629</td>\n",
       "      <td>-0.003465</td>\n",
       "    </tr>\n",
       "    <tr>\n",
       "      <th>s</th>\n",
       "      <td>-0.037464</td>\n",
       "      <td>-0.016956</td>\n",
       "      <td>-0.020096</td>\n",
       "      <td>-0.026474</td>\n",
       "      <td>-0.021311</td>\n",
       "      <td>-4.611796e-03</td>\n",
       "      <td>-0.016236</td>\n",
       "      <td>-0.006469</td>\n",
       "      <td>-0.014818</td>\n",
       "      <td>-0.002727</td>\n",
       "      <td>...</td>\n",
       "      <td>-0.000948</td>\n",
       "      <td>-3.631722e-02</td>\n",
       "      <td>0.327729</td>\n",
       "      <td>-0.005672</td>\n",
       "      <td>-0.000770</td>\n",
       "      <td>-0.008014</td>\n",
       "      <td>-0.000873</td>\n",
       "      <td>-0.003408</td>\n",
       "      <td>-0.022070</td>\n",
       "      <td>-0.006889</td>\n",
       "    </tr>\n",
       "    <tr>\n",
       "      <th>t</th>\n",
       "      <td>-0.016174</td>\n",
       "      <td>-0.011544</td>\n",
       "      <td>-0.013578</td>\n",
       "      <td>-0.024298</td>\n",
       "      <td>-0.008648</td>\n",
       "      <td>-3.630933e-03</td>\n",
       "      <td>-0.015059</td>\n",
       "      <td>0.002384</td>\n",
       "      <td>-0.004362</td>\n",
       "      <td>-0.003201</td>\n",
       "      <td>...</td>\n",
       "      <td>-0.000162</td>\n",
       "      <td>-1.416335e-02</td>\n",
       "      <td>-0.005672</td>\n",
       "      <td>0.235636</td>\n",
       "      <td>-0.001727</td>\n",
       "      <td>-0.007417</td>\n",
       "      <td>-0.003403</td>\n",
       "      <td>-0.002073</td>\n",
       "      <td>-0.008132</td>\n",
       "      <td>-0.003690</td>\n",
       "    </tr>\n",
       "    <tr>\n",
       "      <th>u</th>\n",
       "      <td>-0.040204</td>\n",
       "      <td>0.004518</td>\n",
       "      <td>-0.001595</td>\n",
       "      <td>-0.003363</td>\n",
       "      <td>-0.045230</td>\n",
       "      <td>1.545704e-03</td>\n",
       "      <td>0.003005</td>\n",
       "      <td>-0.005482</td>\n",
       "      <td>-0.031279</td>\n",
       "      <td>0.002426</td>\n",
       "      <td>...</td>\n",
       "      <td>0.006386</td>\n",
       "      <td>-5.209321e-03</td>\n",
       "      <td>-0.000770</td>\n",
       "      <td>-0.001727</td>\n",
       "      <td>0.182280</td>\n",
       "      <td>-0.005050</td>\n",
       "      <td>-0.011513</td>\n",
       "      <td>-0.001396</td>\n",
       "      <td>-0.007495</td>\n",
       "      <td>-0.001450</td>\n",
       "    </tr>\n",
       "    <tr>\n",
       "      <th>v</th>\n",
       "      <td>0.001704</td>\n",
       "      <td>-0.005103</td>\n",
       "      <td>-0.003352</td>\n",
       "      <td>-0.002013</td>\n",
       "      <td>0.012802</td>\n",
       "      <td>-3.536170e-03</td>\n",
       "      <td>-0.003186</td>\n",
       "      <td>-0.004522</td>\n",
       "      <td>0.005624</td>\n",
       "      <td>-0.000172</td>\n",
       "      <td>...</td>\n",
       "      <td>-0.000356</td>\n",
       "      <td>-1.990071e-03</td>\n",
       "      <td>-0.008014</td>\n",
       "      <td>-0.007417</td>\n",
       "      <td>-0.005050</td>\n",
       "      <td>0.055260</td>\n",
       "      <td>-0.001859</td>\n",
       "      <td>-0.000497</td>\n",
       "      <td>-0.002768</td>\n",
       "      <td>-0.001266</td>\n",
       "    </tr>\n",
       "    <tr>\n",
       "      <th>w</th>\n",
       "      <td>-0.003101</td>\n",
       "      <td>-0.005069</td>\n",
       "      <td>-0.007405</td>\n",
       "      <td>-0.000866</td>\n",
       "      <td>0.001960</td>\n",
       "      <td>-1.952182e-03</td>\n",
       "      <td>-0.004146</td>\n",
       "      <td>0.003517</td>\n",
       "      <td>-0.006016</td>\n",
       "      <td>-0.000858</td>\n",
       "      <td>...</td>\n",
       "      <td>-0.000454</td>\n",
       "      <td>-5.801490e-03</td>\n",
       "      <td>-0.000873</td>\n",
       "      <td>-0.003403</td>\n",
       "      <td>-0.011513</td>\n",
       "      <td>-0.001859</td>\n",
       "      <td>0.069539</td>\n",
       "      <td>-0.000977</td>\n",
       "      <td>-0.000280</td>\n",
       "      <td>-0.000871</td>\n",
       "    </tr>\n",
       "    <tr>\n",
       "      <th>x</th>\n",
       "      <td>-0.002973</td>\n",
       "      <td>-0.001406</td>\n",
       "      <td>-0.001774</td>\n",
       "      <td>-0.000298</td>\n",
       "      <td>0.005096</td>\n",
       "      <td>-6.761738e-05</td>\n",
       "      <td>-0.002431</td>\n",
       "      <td>-0.002186</td>\n",
       "      <td>0.002330</td>\n",
       "      <td>-0.000284</td>\n",
       "      <td>...</td>\n",
       "      <td>-0.000198</td>\n",
       "      <td>-2.553038e-03</td>\n",
       "      <td>-0.003408</td>\n",
       "      <td>-0.002073</td>\n",
       "      <td>-0.001396</td>\n",
       "      <td>-0.000497</td>\n",
       "      <td>-0.000977</td>\n",
       "      <td>0.022668</td>\n",
       "      <td>-0.000451</td>\n",
       "      <td>-0.000550</td>\n",
       "    </tr>\n",
       "    <tr>\n",
       "      <th>y</th>\n",
       "      <td>-0.021240</td>\n",
       "      <td>0.001329</td>\n",
       "      <td>-0.005565</td>\n",
       "      <td>0.000554</td>\n",
       "      <td>-0.026218</td>\n",
       "      <td>1.214287e-04</td>\n",
       "      <td>0.000556</td>\n",
       "      <td>-0.006077</td>\n",
       "      <td>-0.022836</td>\n",
       "      <td>-0.000663</td>\n",
       "      <td>...</td>\n",
       "      <td>-0.000943</td>\n",
       "      <td>-6.629286e-03</td>\n",
       "      <td>-0.022070</td>\n",
       "      <td>-0.008132</td>\n",
       "      <td>-0.007495</td>\n",
       "      <td>-0.002768</td>\n",
       "      <td>-0.000280</td>\n",
       "      <td>-0.000451</td>\n",
       "      <td>0.138954</td>\n",
       "      <td>-0.000004</td>\n",
       "    </tr>\n",
       "    <tr>\n",
       "      <th>z</th>\n",
       "      <td>0.001263</td>\n",
       "      <td>-0.000139</td>\n",
       "      <td>-0.002558</td>\n",
       "      <td>-0.002306</td>\n",
       "      <td>0.000235</td>\n",
       "      <td>-3.056280e-04</td>\n",
       "      <td>-0.001488</td>\n",
       "      <td>-0.001760</td>\n",
       "      <td>0.002269</td>\n",
       "      <td>-0.000264</td>\n",
       "      <td>...</td>\n",
       "      <td>-0.000072</td>\n",
       "      <td>-3.464613e-03</td>\n",
       "      <td>-0.006889</td>\n",
       "      <td>-0.003690</td>\n",
       "      <td>-0.001450</td>\n",
       "      <td>-0.001266</td>\n",
       "      <td>-0.000871</td>\n",
       "      <td>-0.000550</td>\n",
       "      <td>-0.000004</td>\n",
       "      <td>0.033793</td>\n",
       "    </tr>\n",
       "  </tbody>\n",
       "</table>\n",
       "<p>26 rows × 26 columns</p>\n",
       "</div>"
      ],
      "text/plain": [
       "          a         b         c         d         e             f         g  \\\n",
       "a  0.398299  0.001299 -0.006826 -0.012563 -0.101224 -1.015744e-02 -0.002583   \n",
       "b  0.001299  0.133998 -0.010185 -0.007533 -0.006888 -5.997929e-03 -0.005068   \n",
       "c -0.006826 -0.010185  0.162655 -0.013858 -0.019890 -5.366007e-03 -0.015378   \n",
       "d -0.012563 -0.007533 -0.013858  0.167908  0.014423 -4.688167e-03 -0.006726   \n",
       "e -0.101224 -0.006888 -0.019890  0.014423  0.390520 -6.008293e-03 -0.005768   \n",
       "f -0.010157 -0.005998 -0.005366 -0.004688 -0.006008  8.781280e-02 -0.003285   \n",
       "g -0.002583 -0.005068 -0.015378 -0.006726 -0.005768 -3.285276e-03  0.122067   \n",
       "h -0.004846 -0.008968  0.013399 -0.011770 -0.016032 -5.631393e-03 -0.005768   \n",
       "i -0.053988 -0.006783 -0.002228  0.002903 -0.052767 -6.777526e-05 -0.003041   \n",
       "j  0.002750  0.000104 -0.002627 -0.001470 -0.002277 -1.083299e-03 -0.000915   \n",
       "k  0.000508 -0.005387  0.001793 -0.010982 -0.010749 -4.056001e-03 -0.009601   \n",
       "l  0.001099 -0.006297 -0.011054 -0.015255 -0.010152  2.998893e-04 -0.005953   \n",
       "m  0.006481 -0.006301 -0.009482 -0.009827 -0.011942 -7.348579e-03 -0.007339   \n",
       "n -0.000281 -0.011848 -0.013002 -0.007348 -0.017222 -9.074488e-03  0.003480   \n",
       "o -0.086541  0.001010  0.006932 -0.002365 -0.068755 -4.140250e-03 -0.000328   \n",
       "p -0.006788 -0.015625 -0.008312 -0.010617 -0.007887 -8.469026e-03 -0.008838   \n",
       "q -0.000080 -0.000769 -0.001066 -0.000851 -0.000384 -3.022259e-04 -0.000893   \n",
       "r -0.006371 -0.004394 -0.009585 -0.010317  0.014316  6.551766e-07 -0.005077   \n",
       "s -0.037464 -0.016956 -0.020096 -0.026474 -0.021311 -4.611796e-03 -0.016236   \n",
       "t -0.016174 -0.011544 -0.013578 -0.024298 -0.008648 -3.630933e-03 -0.015059   \n",
       "u -0.040204  0.004518 -0.001595 -0.003363 -0.045230  1.545704e-03  0.003005   \n",
       "v  0.001704 -0.005103 -0.003352 -0.002013  0.012802 -3.536170e-03 -0.003186   \n",
       "w -0.003101 -0.005069 -0.007405 -0.000866  0.001960 -1.952182e-03 -0.004146   \n",
       "x -0.002973 -0.001406 -0.001774 -0.000298  0.005096 -6.761738e-05 -0.002431   \n",
       "y -0.021240  0.001329 -0.005565  0.000554 -0.026218  1.214287e-04  0.000556   \n",
       "z  0.001263 -0.000139 -0.002558 -0.002306  0.000235 -3.056280e-04 -0.001488   \n",
       "\n",
       "          h         i         j  ...         q             r         s  \\\n",
       "a -0.004846 -0.053988  0.002750  ... -0.000080 -6.370511e-03 -0.037464   \n",
       "b -0.008968 -0.006783  0.000104  ... -0.000769 -4.394171e-03 -0.016956   \n",
       "c  0.013399 -0.002228 -0.002627  ... -0.001066 -9.585234e-03 -0.020096   \n",
       "d -0.011770  0.002903 -0.001470  ... -0.000851 -1.031698e-02 -0.026474   \n",
       "e -0.016032 -0.052767 -0.002277  ... -0.000384  1.431626e-02 -0.021311   \n",
       "f -0.005631 -0.000068 -0.001083  ... -0.000302  6.551766e-07 -0.004612   \n",
       "g -0.005768 -0.003041 -0.000915  ... -0.000893 -5.077401e-03 -0.016236   \n",
       "h  0.130570 -0.008610 -0.001442  ... -0.000876 -1.394391e-02 -0.006469   \n",
       "i -0.008610  0.255204 -0.000923  ...  0.001053 -1.558799e-02 -0.014818   \n",
       "j -0.001442 -0.000923  0.023567  ... -0.000143 -3.297299e-03 -0.002727   \n",
       "k -0.003713 -0.000429 -0.000262  ... -0.000328 -9.119288e-03  0.000641   \n",
       "l -0.012140 -0.002675 -0.002720  ... -0.001261 -4.692181e-02 -0.021027   \n",
       "m -0.005708  0.000258 -0.001125  ... -0.000803 -1.355751e-02 -0.012201   \n",
       "n -0.015274  0.012442 -0.000408  ... -0.001213 -3.576468e-02 -0.031371   \n",
       "o -0.003697 -0.050783 -0.000017  ... -0.001795 -8.495584e-03 -0.013211   \n",
       "p -0.004955 -0.004889 -0.001967  ... -0.000821 -8.405580e-03  0.001563   \n",
       "q -0.000876  0.001053 -0.000143  ...  0.008657 -1.376514e-03 -0.000948   \n",
       "r -0.013944 -0.015588 -0.003297  ... -0.001377  2.540259e-01 -0.036317   \n",
       "s -0.006469 -0.014818 -0.002727  ... -0.000948 -3.631722e-02  0.327729   \n",
       "t  0.002384 -0.004362 -0.003201  ... -0.000162 -1.416335e-02 -0.005672   \n",
       "u -0.005482 -0.031279  0.002426  ...  0.006386 -5.209321e-03 -0.000770   \n",
       "v -0.004522  0.005624 -0.000172  ... -0.000356 -1.990071e-03 -0.008014   \n",
       "w  0.003517 -0.006016 -0.000858  ... -0.000454 -5.801490e-03 -0.000873   \n",
       "x -0.002186  0.002330 -0.000284  ... -0.000198 -2.553038e-03 -0.003408   \n",
       "y -0.006077 -0.022836 -0.000663  ... -0.000943 -6.629286e-03 -0.022070   \n",
       "z -0.001760  0.002269 -0.000264  ... -0.000072 -3.464613e-03 -0.006889   \n",
       "\n",
       "          t         u         v         w         x         y         z  \n",
       "a -0.016174 -0.040204  0.001704 -0.003101 -0.002973 -0.021240  0.001263  \n",
       "b -0.011544  0.004518 -0.005103 -0.005069 -0.001406  0.001329 -0.000139  \n",
       "c -0.013578 -0.001595 -0.003352 -0.007405 -0.001774 -0.005565 -0.002558  \n",
       "d -0.024298 -0.003363 -0.002013 -0.000866 -0.000298  0.000554 -0.002306  \n",
       "e -0.008648 -0.045230  0.012802  0.001960  0.005096 -0.026218  0.000235  \n",
       "f -0.003631  0.001546 -0.003536 -0.001952 -0.000068  0.000121 -0.000306  \n",
       "g -0.015059  0.003005 -0.003186 -0.004146 -0.002431  0.000556 -0.001488  \n",
       "h  0.002384 -0.005482 -0.004522  0.003517 -0.002186 -0.006077 -0.001760  \n",
       "i -0.004362 -0.031279  0.005624 -0.006016  0.002330 -0.022836  0.002269  \n",
       "j -0.003201  0.002426 -0.000172 -0.000858 -0.000284 -0.000663 -0.000264  \n",
       "k -0.014745 -0.003520 -0.003904 -0.001647 -0.002232 -0.000191 -0.001690  \n",
       "l -0.026034 -0.005122 -0.001332 -0.003729 -0.000961  0.002422 -0.003985  \n",
       "m -0.016355  0.003795 -0.005878 -0.007255 -0.000852 -0.001821 -0.000456  \n",
       "n -0.017966 -0.000355 -0.003958 -0.000906 -0.001111 -0.005611 -0.001281  \n",
       "o -0.006750 -0.032290 -0.003259 -0.000813 -0.000777 -0.007700  0.000226  \n",
       "p -0.009236 -0.000906 -0.005956 -0.005222 -0.000637  0.002758 -0.003296  \n",
       "q -0.000162  0.006386 -0.000356 -0.000454 -0.000198 -0.000943 -0.000072  \n",
       "r -0.014163 -0.005209 -0.001990 -0.005801 -0.002553 -0.006629 -0.003465  \n",
       "s -0.005672 -0.000770 -0.008014 -0.000873 -0.003408 -0.022070 -0.006889  \n",
       "t  0.235636 -0.001727 -0.007417 -0.003403 -0.002073 -0.008132 -0.003690  \n",
       "u -0.001727  0.182280 -0.005050 -0.011513 -0.001396 -0.007495 -0.001450  \n",
       "v -0.007417 -0.005050  0.055260 -0.001859 -0.000497 -0.002768 -0.001266  \n",
       "w -0.003403 -0.011513 -0.001859  0.069539 -0.000977 -0.000280 -0.000871  \n",
       "x -0.002073 -0.001396 -0.000497 -0.000977  0.022668 -0.000451 -0.000550  \n",
       "y -0.008132 -0.007495 -0.002768 -0.000280 -0.000451  0.138954 -0.000004  \n",
       "z -0.003690 -0.001450 -0.001266 -0.000871 -0.000550 -0.000004  0.033793  \n",
       "\n",
       "[26 rows x 26 columns]"
      ]
     },
     "execution_count": 6,
     "metadata": {},
     "output_type": "execute_result"
    },
    {
     "data": {
      "image/png": "[encoded data removed]",
      "text/plain": [
       "<Figure size 432x288 with 2 Axes>"
      ]
     },
     "metadata": {
      "needs_background": "light"
     },
     "output_type": "display_data"
    }
   ],
   "source": [
    "##Character Covariance\n",
    "F = let_hit\n",
    "mean = np.mean(F)\n",
    "Fc = F-mean\n",
    "V = np.transpose(Fc).dot(Fc)/(15918-1)\n",
    "# plot the heatmap\n",
    "m = 26\n",
    "O = V.iloc[:m,:m]\n",
    "sns.heatmap(O, \n",
    "        xticklabels=O.columns,\n",
    "        yticklabels=O.columns)\n",
    "V"
   ]
  },
  {
   "cell_type": "code",
   "execution_count": 7,
   "metadata": {
    "ExecuteTime": {
     "end_time": "2022-02-08T01:19:30.269430Z",
     "start_time": "2022-02-08T01:19:10.413209Z"
    }
   },
   "outputs": [
    {
     "data": {
      "text/plain": [
       "<matplotlib.collections.PathCollection at 0x20144e41610>"
      ]
     },
     "execution_count": 7,
     "metadata": {},
     "output_type": "execute_result"
    },
    {
     "data": {
      "image/png": "[encoded data removed]",
      "text/plain": [
       "<Figure size 432x288 with 1 Axes>"
      ]
     },
     "metadata": {
      "needs_background": "light"
     },
     "output_type": "display_data"
    }
   ],
   "source": [
    "##Latent Semantic Analysis\n",
    "U_, S_, V_ = np.linalg.svd(Q)\n",
    "plt.scatter(np.linspace(1,len(S_),len(S_)),S_)"
   ]
  },
  {
   "cell_type": "code",
   "execution_count": 35,
   "metadata": {
    "ExecuteTime": {
     "end_time": "2022-02-08T02:20:08.160768Z",
     "start_time": "2022-02-08T02:20:08.055965Z"
    }
   },
   "outputs": [],
   "source": [
    "#LSI in 2D/3D\n",
    "E1 = U_[:,0]*S_[0]\n",
    "E2 = U_[:,1]*S_[1]\n",
    "E3 = U_[:,2]*S_[2]\n",
    "E = np.array([E1,E2,E3])\n",
    "E = np.transpose(E)"
   ]
  },
  {
   "cell_type": "code",
   "execution_count": 36,
   "metadata": {
    "ExecuteTime": {
     "end_time": "2022-02-08T02:20:09.912084Z",
     "start_time": "2022-02-08T02:20:09.518439Z"
    }
   },
   "outputs": [
    {
     "data": {
      "image/png": "[encoded data removed]",
      "text/plain": [
       "<Figure size 432x288 with 1 Axes>"
      ]
     },
     "metadata": {
      "needs_background": "light"
     },
     "output_type": "display_data"
    }
   ],
   "source": [
    "from mpl_toolkits.mplot3d import Axes3D\n",
    "\n",
    "fig = plt.figure()\n",
    "ax = fig.gca(projection='3d')\n",
    "\n",
    "ax.view_init(elev=15, azim=170)\n",
    "ax.invert_xaxis()\n",
    "\n",
    "surf = ax.scatter(E[:,0], E[:,1], E[:,2], linewidth=0, antialiased=False, s = .1)\n",
    "plt.show()"
   ]
  },
  {
   "cell_type": "code",
   "execution_count": 38,
   "metadata": {
    "ExecuteTime": {
     "end_time": "2022-02-08T02:21:07.344175Z",
     "start_time": "2022-02-08T02:20:44.853310Z"
    }
   },
   "outputs": [
    {
     "data": {
      "image/png": "[encoded data removed]",
      "text/plain": [
       "<Figure size 432x288 with 1 Axes>"
      ]
     },
     "metadata": {
      "needs_background": "light"
     },
     "output_type": "display_data"
    }
   ],
   "source": [
    "#k-means algorithm for 3D\n",
    "K = 6\n",
    "num = 100\n",
    "import random \n",
    "#size of samples\n",
    "l = len(E[:,0])\n",
    "#intialize centers randomly as points\n",
    "centers = random.sample(range(l),K)\n",
    "mu = E[centers]\n",
    "#classifying other points\n",
    "C = np.empty(l)\n",
    "for i in range(l):\n",
    "    C[i] = np.argmin(np.linalg.norm(mu-E[i], axis = 1))\n",
    "#recalculate mean\n",
    "for j in range(K):\n",
    "    mu[j] = np.mean(E[C == j], axis = 0)\n",
    "    \n",
    "#interate number of times\n",
    "for m in range(num):\n",
    "    for i in range(l):\n",
    "        #could be sped up with possible further parallelization\n",
    "        C[i] = np.argmin(np.linalg.norm(mu-E[i], axis = 1))\n",
    "    for j in range(K):\n",
    "        mu[j] = np.mean(E[C == j], axis = 0)\n",
    "\n",
    "from mpl_toolkits.mplot3d import Axes3D\n",
    "\n",
    "fig = plt.figure()\n",
    "ax = fig.gca(projection='3d')\n",
    "\n",
    "ax.view_init(elev=15, azim=170)\n",
    "ax.invert_xaxis()\n",
    "\n",
    "for j in range(K):\n",
    "    P = E[C == j]\n",
    "    surf = ax.scatter(P[:,0], P[:,1], P[:,2], linewidth=0, antialiased=False, s = .1)\n",
    "plt.show()"
   ]
  },
  {
   "cell_type": "code",
   "execution_count": 39,
   "metadata": {
    "ExecuteTime": {
     "end_time": "2022-02-08T02:21:45.451313Z",
     "start_time": "2022-02-08T02:21:22.777734Z"
    },
    "scrolled": false
   },
   "outputs": [
    {
     "data": {
      "image/png": "[encoded data removed]",
      "text/plain": [
       "<Figure size 432x288 with 1 Axes>"
      ]
     },
     "metadata": {
      "needs_background": "light"
     },
     "output_type": "display_data"
    }
   ],
   "source": [
    "#k-means algorithm for 2D\n",
    "K = 6\n",
    "num = 100\n",
    "import random \n",
    "#size of samples\n",
    "l = len(E[:,0])\n",
    "E = E[:,:2]\n",
    "#intialize centers randomly as points\n",
    "centers = random.sample(range(l),K)\n",
    "mu = E[centers]\n",
    "#classifying other points\n",
    "C = np.empty(l)\n",
    "for i in range(l):\n",
    "    C[i] = np.argmin(np.linalg.norm(mu-E[i], axis = 1))\n",
    "#recalculate mean\n",
    "for j in range(K):\n",
    "    mu[j] = np.mean(E[C == j], axis = 0)\n",
    "    \n",
    "#interate number of times\n",
    "for m in range(num):\n",
    "    for i in range(l):\n",
    "        #could be sped up with possible further parallelization\n",
    "        C[i] = np.argmin(np.linalg.norm(mu-E[i], axis = 1))\n",
    "    for j in range(K):\n",
    "        mu[j] = np.mean(E[C == j], axis = 0)\n",
    "#graph classes\n",
    "for j in range(K):\n",
    "    P = E[C == j]\n",
    "    plt.scatter(P[:,0],P[:,1], s = .1)\n",
    "#plt.axis('scaled')\n",
    "plt.show()"
   ]
  },
  {
   "cell_type": "code",
   "execution_count": 47,
   "metadata": {
    "ExecuteTime": {
     "end_time": "2022-02-08T02:37:02.294394Z",
     "start_time": "2022-02-08T02:36:59.942309Z"
    }
   },
   "outputs": [
    {
     "data": {
      "image/png": "[encoded data removed]",
      "text/plain": [
       "<Figure size 432x288 with 1 Axes>"
      ]
     },
     "metadata": {
      "needs_background": "light"
     },
     "output_type": "display_data"
    },
    {
     "data": {
      "image/png": "[encoded data removed]",
      "text/plain": [
       "<Figure size 432x288 with 1 Axes>"
      ]
     },
     "metadata": {
      "needs_background": "light"
     },
     "output_type": "display_data"
    },
    {
     "data": {
      "image/png": "[encoded data removed]",
      "text/plain": [
       "<Figure size 432x288 with 1 Axes>"
      ]
     },
     "metadata": {
      "needs_background": "light"
     },
     "output_type": "display_data"
    },
    {
     "data": {
      "image/png": "[encoded data removed]",
      "text/plain": [
       "<Figure size 432x288 with 1 Axes>"
      ]
     },
     "metadata": {
      "needs_background": "light"
     },
     "output_type": "display_data"
    },
    {
     "data": {
      "image/png": "[encoded data removed]",
      "text/plain": [
       "<Figure size 432x288 with 1 Axes>"
      ]
     },
     "metadata": {
      "needs_background": "light"
     },
     "output_type": "display_data"
    },
    {
     "data": {
      "image/png": "[encoded data removed]",
      "text/plain": [
       "<Figure size 432x288 with 1 Axes>"
      ]
     },
     "metadata": {
      "needs_background": "light"
     },
     "output_type": "display_data"
    },
    {
     "data": {
      "image/png": "[encoded data removed]",
      "text/plain": [
       "<Figure size 432x288 with 1 Axes>"
      ]
     },
     "metadata": {
      "needs_background": "light"
     },
     "output_type": "display_data"
    }
   ],
   "source": [
    "import warnings\n",
    "warnings.filterwarnings(\"ignore\")\n",
    "\n",
    "#list of elliptical cluster centers by hand\n",
    "P = np.array([[-1.5, 1.452],[-1.1,.65],[-1.55,0.05],[-.9,-0.1],[-1.1,-.8],[-1.5,-1.4]])\n",
    "for i in range(len(P)):\n",
    "    plt.scatter(E[:,0],E[:,1], s = .005)\n",
    "    h = P[i,0]\n",
    "    k = P[i,1]\n",
    "    a = .4\n",
    "    b = .2\n",
    "    ex = np.linspace(h-a,h+a,1000)\n",
    "    plt.plot(ex,b*np.sqrt(1-(ex-h)**2/a**2)+k, c = 'r')\n",
    "    plt.plot(ex,-b*np.sqrt(1-(ex-h)**2/a**2)+k, c = 'r')\n",
    "    #plt.axis('scaled')\n",
    "plt.show()\n",
    "\n",
    "#breakdown of the letters in each cluster by frequency\n",
    "for i in range(P.shape[0]):\n",
    "    # mask for elements in ellipse\n",
    "    buul = ((E[:,0]-P[i,0])/a)**2 + ((E[:,1]-P[i,1])/b)**2 < 1\n",
    "    plt.bar(np.linspace(1,26,26),np.sum(Q[buul], axis = 0))\n",
    "    plt.xticks(np.linspace(1,26,26), list(\"abcdefghijklmnopqrstuvwxyz\"))\n",
    "    plt.title(i)\n",
    "    plt.show()"
   ]
  },
  {
   "cell_type": "code",
   "execution_count": 51,
   "metadata": {
    "ExecuteTime": {
     "end_time": "2022-02-08T02:57:51.273588Z",
     "start_time": "2022-02-08T02:57:50.730528Z"
    }
   },
   "outputs": [
    {
     "name": "stdout",
     "output_type": "stream",
     "text": [
      "(15918, 3)\n"
     ]
    },
    {
     "data": {
      "image/png": "[encoded data removed]",
      "text/plain": [
       "<Figure size 432x288 with 1 Axes>"
      ]
     },
     "metadata": {
      "needs_background": "light"
     },
     "output_type": "display_data"
    },
    {
     "data": {
      "image/png": "[encoded data removed]",
      "text/plain": [
       "<Figure size 432x288 with 1 Axes>"
      ]
     },
     "metadata": {
      "needs_background": "light"
     },
     "output_type": "display_data"
    }
   ],
   "source": [
    "E1 = U_[:,0]*S_[0]\n",
    "E2 = U_[:,1]*S_[1]\n",
    "E3 = U_[:,2]*S_[2]\n",
    "E = np.array([E1,E2,E3])\n",
    "E = np.transpose(E)\n",
    "\n",
    "#different view of a cluster and subsequent letter distribution\n",
    "print(E.shape)\n",
    "plt.scatter(E[:,2],E[:,1], s = .005)\n",
    "h = -.3\n",
    "k = 0\n",
    "a = .2\n",
    "b = .2\n",
    "ex = np.linspace(h-a,h+a,1000)\n",
    "plt.plot(ex,b*np.sqrt(1-(ex-h)**2/a**2)+k, c = 'r')\n",
    "plt.plot(ex,-b*np.sqrt(1-(ex-h)**2/a**2)+k, c = 'r')\n",
    "#plt.axis('scaled')\n",
    "plt.show()\n",
    "\n",
    "buul = ((E[:,2]-.3)/a)**2 + ((E[:,1]-0)/b)**2 < 1\n",
    "plt.bar(np.linspace(1,26,26),np.sum(Q[buul], axis = 0))\n",
    "plt.xticks(np.linspace(1,26,26), list(\"abcdefghijklmnopqrstuvwxyz\"))\n",
    "plt.title(i)\n",
    "plt.show()"
   ]
  },
  {
   "cell_type": "code",
   "execution_count": 52,
   "metadata": {
    "ExecuteTime": {
     "end_time": "2022-02-08T03:00:55.214557Z",
     "start_time": "2022-02-08T03:00:55.198536Z"
    }
   },
   "outputs": [],
   "source": [
    "##NMF Piece\n",
    "n,m = Q.shape\n",
    "k = 5\n",
    "W = np.zeros((n,k))\n",
    "H = np.zeros((k,m))\n",
    "\n",
    "#functions for gradient descent\n",
    "def obj(q,w,h):\n",
    "    return .5*(q-np.dot(w,h))**2\n",
    "\n",
    "def obj_der_w(q,w,h):\n",
    "    return np.dot((q-np.dot(w,h)),np.transpose(h))\n",
    "\n",
    "def obj_der_h(q,w,h):\n",
    "    return np.dot(np.transpose(w),(q-np.dot(w,h)))"
   ]
  },
  {
   "cell_type": "code",
   "execution_count": 11,
   "metadata": {
    "ExecuteTime": {
     "end_time": "2022-01-20T05:27:03.546330Z",
     "start_time": "2022-01-20T05:27:03.525327Z"
    }
   },
   "outputs": [],
   "source": [
    "##Gradient Descent\n",
    "\n",
    "#Issue: does not observe well non-negativity constarints\n",
    "\n",
    "# W[:], H[:] = 1,1\n",
    "# r = .003\n",
    "# num  = 1\n",
    "# for i in range(num):\n",
    "#     W = W + r*obj_der_w(Q,W,H)\n",
    "#     H = H + r*obj_der_h(Q,W,H)\n",
    "# W"
   ]
  },
  {
   "cell_type": "code",
   "execution_count": 59,
   "metadata": {
    "ExecuteTime": {
     "end_time": "2022-02-08T03:08:03.156272Z",
     "start_time": "2022-02-08T03:08:01.474351Z"
    }
   },
   "outputs": [
    {
     "name": "stdout",
     "output_type": "stream",
     "text": [
      "First letter cluster frequency: [0.         0.01831784 0.02453115 0.03468517 0.16247003 0.01282391\n",
      " 0.01812548 0.02012392 0.0556917  0.00242244 0.01477255 0.03967648\n",
      " 0.02038706 0.03629568 0.07842184 0.02448302 0.00111077 0.06432307\n",
      " 0.09724888 0.0516078  0.03233214 0.01012912 0.01242716 0.00468687\n",
      " 0.02192359 0.00371012]\n",
      "Notice the globality/not sparse\n"
     ]
    },
    {
     "data": {
      "image/png": "[encoded data removed]",
      "text/plain": [
       "<Figure size 432x288 with 1 Axes>"
      ]
     },
     "metadata": {
      "needs_background": "light"
     },
     "output_type": "display_data"
    }
   ],
   "source": [
    "#Multiplicative Update Rule (Lee & Seung)\n",
    "\n",
    "#vanilla, no sparsity or normalization\n",
    "\n",
    "#initialization\n",
    "W[:], H[:] = 1,1\n",
    "num  = 1000\n",
    "#updates iterated\n",
    "for i in range(num):\n",
    "    A = np.dot(np.transpose(W),Q)\n",
    "    B = np.linalg.multi_dot([np.transpose(W),W,H])\n",
    "\n",
    "    H = H*A/B\n",
    "\n",
    "    A = np.dot(Q,np.transpose(H))\n",
    "    B  = np.linalg.multi_dot([W,H,np.transpose(H)])\n",
    "\n",
    "    W = W*A/B\n",
    "    \n",
    "#print(A/B)\n",
    "np.set_printoptions(suppress=True)\n",
    "print(\"First letter cluster frequency:\",H[0])\n",
    "plt.bar(np.linspace(1,26,26),H[2])\n",
    "print(\"Notice the globality/not sparse\")"
   ]
  },
  {
   "cell_type": "code",
   "execution_count": null,
   "metadata": {},
   "outputs": [],
   "source": [
    "#Sources:\n",
    "#https://www.jmlr.org/papers/volume5/hoyer04a/hoyer04a.pdf\n",
    "#https://www.ncbi.nlm.nih.gov/pmc/articles/PMC3312776/\n",
    "#https://journals.plos.org/plosone/article?id=10.1371/journal.pone.0046331\n",
    "#https://ieeexplore-ieee-org.ezproxy.cul.columbia.edu/document/6748996\n",
    "##https://angms.science/doc/NMF/nmf_2.pdf \n",
    "#https://arxiv.org/pdf/2109.03874.pdf"
   ]
  },
  {
   "cell_type": "code",
   "execution_count": 381,
   "metadata": {
    "ExecuteTime": {
     "end_time": "2022-01-21T19:11:39.182172Z",
     "start_time": "2022-01-21T19:11:25.617636Z"
    }
   },
   "outputs": [
    {
     "name": "stdout",
     "output_type": "stream",
     "text": [
      "[[1. 1. 1. 1. 1. 1. 1. 1. 1. 1. 1. 1. 1. 1. 1. 1. 1. 1. 1. 1. 1. 1. 1. 1.\n",
      "  1. 1.]\n",
      " [1. 1. 1. 1. 1. 1. 1. 1. 1. 1. 1. 1. 1. 1. 1. 1. 1. 1. 1. 1. 1. 1. 1. 1.\n",
      "  1. 1.]]\n"
     ]
    }
   ],
   "source": [
    "#Multiplicative Update Rule with Regularization L1 and Constraint Version 1\n",
    "r = 0\n",
    "u = 5\n",
    "k = 2\n",
    "W = r*np.random.rand(n,k)+u\n",
    "H = r*np.random.rand(k,m)+u\n",
    "\n",
    "eps = .000001\n",
    "num  = 10000\n",
    "#L1 Regularization strength\n",
    "lam1 = 200/100\n",
    "#proportion of Reg. to Equ.\n",
    "#p = 10\n",
    "#Equality Constraint strength\n",
    "#lam2 = lam1*p\n",
    "lam2 = 0.00001\n",
    "#total cumulative allowed sum in equality constraint\n",
    "alpha = 500\n",
    "for i in range(int(num/10)):\n",
    "    A = np.dot(Q,np.transpose(H)) C\n",
    "    B  = np.linalg.multi_dot([W,H,np.transpose(H)]) + eps  \n",
    "\n",
    "    W = W*A/B\n",
    "    \n",
    "    A = np.dot(np.transpose(W),Q)- lam1 \n",
    "    B = np.linalg.multi_dot([np.transpose(W),W,H]) + eps\n",
    "\n",
    "    H = H*A/B\n",
    "    \n",
    "lam1 = lam1*100\n",
    "for i in range(num):\n",
    "    #A = np.dot(Q,np.transpose(H)) - lam2*(np.sum(W, axis = 0)-np.ones(k)*alpha)\n",
    "    A = np.dot(Q,np.transpose(H)) - lam2*(np.sum(W)-np.ones(k)*alpha)\n",
    "    B  = np.linalg.multi_dot([W,H,np.transpose(H)]) + eps  \n",
    "\n",
    "    W = W*A/B\n",
    "    \n",
    "    A = np.dot(np.transpose(W),Q)- lam1 \n",
    "    B = np.linalg.multi_dot([np.transpose(W),W,H]) + eps\n",
    "\n",
    "    H = H*A/B\n",
    "#print(A/B)"
   ]
  },
  {
   "cell_type": "code",
   "execution_count": 435,
   "metadata": {
    "ExecuteTime": {
     "end_time": "2022-01-23T05:57:33.694046Z",
     "start_time": "2022-01-23T05:57:33.670176Z"
    }
   },
   "outputs": [
    {
     "data": {
      "text/plain": [
       "array([132.54061722, 132.51676453])"
      ]
     },
     "execution_count": 435,
     "metadata": {},
     "output_type": "execute_result"
    }
   ],
   "source": [
    "np.transpose(s)\n",
    "s"
   ]
  },
  {
   "cell_type": "markdown",
   "metadata": {},
   "source": [
    "### Improvement Ideas:\n",
    "1. Cold start differently. \n"
   ]
  },
  {
   "cell_type": "code",
   "execution_count": 488,
   "metadata": {
    "ExecuteTime": {
     "end_time": "2022-01-24T21:45:25.079264Z",
     "start_time": "2022-01-24T21:39:25.535803Z"
    }
   },
   "outputs": [
    {
     "name": "stdout",
     "output_type": "stream",
     "text": [
      "[[0.84700885 0.96614521 0.9661452  0.81836592 0.96614521 0.96614521\n",
      "  0.96614521 0.96614521 0.78820712 0.51483528 0.96614521 0.84882978\n",
      "  0.96614521 0.83302516 0.74832788 0.96614521 0.21231039 0.8959822\n",
      "  0.89541639 0.83184749 0.65619577 0.96614521 0.96614521 0.88473514\n",
      "  0.74421249 0.81344004]\n",
      " [0.89752564 0.95790465 0.86965195 0.70638434 0.91254604 0.95790465\n",
      "  0.95790465 0.78903269 0.81967901 0.33691754 0.82399115 0.68274404\n",
      "  0.76182755 0.72907521 0.82483104 0.9190954  0.11555945 0.95790465\n",
      "  0.85664172 0.76884665 0.95790465 0.71620647 0.7755268  0.36109448\n",
      "  0.95790465 0.47658885]\n",
      " [0.90220577 0.69101814 0.67350733 0.69406294 0.88640254 0.64879935\n",
      "  0.95271125 0.64157741 0.86355477 0.48445934 0.93259995 0.70254583\n",
      "  0.63811924 0.95271125 0.83825238 0.65437358 0.09329257 0.76967138\n",
      "  0.84167785 0.72266334 0.95271125 0.55489728 0.93340225 0.38720275\n",
      "  0.95271125 0.54052811]\n",
      " [0.87860834 0.73149562 0.57226945 0.94455684 0.90296418 0.71578645\n",
      "  0.74663224 0.62325222 0.83637583 0.31144422 0.51702465 0.7142268\n",
      "  0.66851071 0.76529792 0.82762312 0.69144465 0.07771314 0.80698463\n",
      "  0.81709903 0.63510238 0.94455684 0.54835167 0.85517707 0.40451507\n",
      "  0.94455684 0.36405799]\n",
      " [0.85200519 0.95273469 0.95273468 0.7899602  0.86461495 0.95273468\n",
      "  0.95273468 0.95273468 0.95273468 0.49455247 0.95273468 0.84672588\n",
      "  0.95273468 0.85965267 0.70973374 0.95273468 0.27947453 0.86118489\n",
      "  0.88351632 0.81837015 0.66419776 0.95273468 0.85019772 0.70846504\n",
      "  0.65839313 0.87742629]\n",
      " [0.80889822 0.95292672 0.95292672 0.74128855 0.84726226 0.93833133\n",
      "  0.95292672 0.95292672 0.71861063 0.54184937 0.95292672 0.82390836\n",
      "  0.95292672 0.82534589 0.95292672 0.95292672 0.07701225 0.86107519\n",
      "  0.88237764 0.80556003 0.69134473 0.74668085 0.95292672 0.47085963\n",
      "  0.95292673 0.70218906]\n",
      " [0.88548449 0.79032159 0.80344323 0.68616547 0.90153193 0.96302836\n",
      "  0.82241261 0.96302836 0.83396124 0.44758941 0.96302836 0.81625012\n",
      "  0.89528236 0.79169598 0.8303728  0.96302836 0.17993617 0.83669618\n",
      "  0.96302836 0.79343819 0.96302836 0.56493861 0.96302836 0.37358059\n",
      "  0.88467084 0.33974186]\n",
      " [0.88684374 0.80114567 0.81052048 0.60334398 0.89565685 0.9531478\n",
      "  0.68783075 0.9531478  0.8312298  0.32860474 0.57882061 0.75564833\n",
      "  0.70707083 0.78295738 0.81978313 0.86036205 0.26588503 0.84015283\n",
      "  0.88190362 0.9531478  0.9531478  0.41404175 0.81389383 0.34271164\n",
      "  0.9531478  0.39086895]\n",
      " [0.89698035 0.87518572 0.77133239 0.6288755  0.89026518 0.95398477\n",
      "  0.95207708 0.76237595 0.83112173 0.31225729 0.76251443 0.95398477\n",
      "  0.72654188 0.70389732 0.82307663 0.92119943 0.09406298 0.73133805\n",
      "  0.85828931 0.70314761 0.95398477 0.70920511 0.81507011 0.42706049\n",
      "  0.95398477 0.35933635]\n",
      " [0.96322085 0.96322085 0.96322085 0.75926105 0.86896558 0.92345382\n",
      "  0.96322085 0.96322085 0.79378811 0.80816701 0.96322085 0.85877049\n",
      "  0.96322085 0.8522472  0.72452762 0.96322085 0.23649266 0.88428021\n",
      "  0.88792647 0.81437493 0.79317468 0.96322085 0.96322085 0.47830923\n",
      "  0.90045343 0.90199159]]\n"
     ]
    }
   ],
   "source": [
    "#Multiplicative Update Rule with Regularization L1 and Constraint, cold start V2\n",
    "r = .5\n",
    "u = 1\n",
    "k = 5\n",
    "\n",
    "eps = .000001\n",
    "num  = 20000\n",
    "#L1 Regularization strength\n",
    "lam1 = 3\n",
    "\n",
    "W = r*np.random.rand(n,k)+u\n",
    "s = np.linalg.norm(W, axis = 0)\n",
    "W = W/s\n",
    "\n",
    "H = r*np.random.rand(k,m)+u\n",
    "H = np.transpose(np.transpose(H)*s)\n",
    "\n",
    "for i in range(num):\n",
    "    A = np.dot(Q,np.transpose(H)) \n",
    "    B  = np.linalg.multi_dot([W,H,np.transpose(H)]) + eps\n",
    "\n",
    "    W = W*A/B\n",
    "    \n",
    "    A = np.dot(np.transpose(W),Q)  \n",
    "    B = np.linalg.multi_dot([np.transpose(W),W,H]) + lam1\n",
    "\n",
    "    H = H*A/B\n",
    "    \n",
    "    s = np.linalg.norm(W, axis = 0)\n",
    "    W = W/s\n",
    "    H = np.transpose(np.transpose(H)*s)\n",
    "\n",
    "print(A/B)"
   ]
  },
  {
   "cell_type": "code",
   "execution_count": 489,
   "metadata": {
    "ExecuteTime": {
     "end_time": "2022-01-24T21:45:32.290961Z",
     "start_time": "2022-01-24T21:45:26.229328Z"
    }
   },
   "outputs": [
    {
     "data": {
      "image/png": "[encoded data removed]",
      "text/plain": [
       "<Figure size 432x288 with 1 Axes>"
      ]
     },
     "metadata": {
      "needs_background": "light"
     },
     "output_type": "display_data"
    },
    {
     "data": {
      "image/png": "[encoded data removed]",
      "text/plain": [
       "<Figure size 432x288 with 1 Axes>"
      ]
     },
     "metadata": {
      "needs_background": "light"
     },
     "output_type": "display_data"
    },
    {
     "data": {
      "image/png": "[encoded data removed]",
      "text/plain": [
       "<Figure size 432x288 with 1 Axes>"
      ]
     },
     "metadata": {
      "needs_background": "light"
     },
     "output_type": "display_data"
    },
    {
     "data": {
      "image/png": "[encoded data removed]",
      "text/plain": [
       "<Figure size 432x288 with 1 Axes>"
      ]
     },
     "metadata": {
      "needs_background": "light"
     },
     "output_type": "display_data"
    },
    {
     "data": {
      "image/png": "[encoded data removed]",
      "text/plain": [
       "<Figure size 432x288 with 1 Axes>"
      ]
     },
     "metadata": {
      "needs_background": "light"
     },
     "output_type": "display_data"
    },
    {
     "data": {
      "image/png": "[encoded data removed]",
      "text/plain": [
       "<Figure size 432x288 with 1 Axes>"
      ]
     },
     "metadata": {
      "needs_background": "light"
     },
     "output_type": "display_data"
    },
    {
     "data": {
      "image/png": "[encoded data removed]",
      "text/plain": [
       "<Figure size 432x288 with 1 Axes>"
      ]
     },
     "metadata": {
      "needs_background": "light"
     },
     "output_type": "display_data"
    },
    {
     "data": {
      "image/png": "[encoded data removed]",
      "text/plain": [
       "<Figure size 432x288 with 1 Axes>"
      ]
     },
     "metadata": {
      "needs_background": "light"
     },
     "output_type": "display_data"
    },
    {
     "data": {
      "image/png": "[encoded data removed]",
      "text/plain": [
       "<Figure size 432x288 with 1 Axes>"
      ]
     },
     "metadata": {
      "needs_background": "light"
     },
     "output_type": "display_data"
    },
    {
     "data": {
      "image/png": "[encoded data removed]",
      "text/plain": [
       "<Figure size 432x288 with 1 Axes>"
      ]
     },
     "metadata": {
      "needs_background": "light"
     },
     "output_type": "display_data"
    },
    {
     "name": "stdout",
     "output_type": "stream",
     "text": [
      "[[0.00977232 0.         0.         ... 0.00067948 0.         0.01904863]\n",
      " [0.         0.         0.         ... 0.         0.0139138  0.01822523]\n",
      " [0.0001878  0.01318559 0.00082112 ... 0.00064292 0.         0.01948432]\n",
      " ...\n",
      " [0.         0.         0.         ... 0.00195854 0.         0.00930847]\n",
      " [0.         0.         0.         ... 0.00426009 0.01568854 0.        ]\n",
      " [0.         0.         0.01568207 ... 0.00184667 0.         0.        ]] [[  0.           3.79619263   1.59139217   0.          97.34457405\n",
      "    0.25637829   2.84285986   1.2955772    0.           0.\n",
      "    0.85501326   0.           2.97805359   0.           0.\n",
      "    3.40294926   0.           0.           0.           0.\n",
      "    0.           3.21455936   2.52560958   0.           0.\n",
      "    0.        ]\n",
      " [  0.           0.07695855   0.           0.           0.\n",
      "    2.40376858   0.97711063   0.           0.           0.\n",
      "    0.           0.           0.           0.           0.\n",
      "    0.           0.          72.65871742   0.           0.\n",
      "    5.56222151   0.           0.           0.           4.3910887\n",
      "    0.        ]\n",
      " [  0.           0.           0.           0.           0.\n",
      "    0.           4.87608245   0.           0.           0.\n",
      "    0.           0.           0.          64.84401608   0.\n",
      "    0.           0.           0.           0.           0.\n",
      "    6.38353049   0.           0.           0.           3.14175099\n",
      "    0.        ]\n",
      " [  0.           0.           0.          53.07256853   0.\n",
      "    0.           0.           0.           0.           0.\n",
      "    0.           0.           0.           0.           0.\n",
      "    0.           0.           0.           0.           0.\n",
      "    2.78739428   0.           0.           0.           9.02634575\n",
      "    0.        ]\n",
      " [  0.           1.57375279   7.77743789   0.           0.\n",
      "    1.345768     1.38811624   2.15046163  72.30451586   0.\n",
      "    2.91883886   0.           6.25921494   0.           0.\n",
      "    2.72956621   0.           0.           0.           0.\n",
      "    0.           1.28818842   0.           0.           0.\n",
      "    0.        ]\n",
      " [  0.           4.96460515  11.56664317   0.           0.\n",
      "    0.           2.74891902   4.62175434   0.           0.\n",
      "    2.10129989   0.           5.61371588   0.          77.0436508\n",
      "    4.21802727   0.           0.           0.           0.\n",
      "    0.           0.           0.98031316   0.           0.66383055\n",
      "    0.        ]\n",
      " [  0.           0.           0.           0.           0.\n",
      "    0.80678614   0.           1.53945688   0.           0.\n",
      "    2.90272927   0.           0.           0.           0.\n",
      "    5.19032223   0.           0.          85.96850703   0.\n",
      "    6.97163485   0.           0.8889027    0.           0.\n",
      "    0.        ]\n",
      " [  0.           0.           0.           0.           0.\n",
      "    0.07706825   0.           4.6419807    0.           0.\n",
      "    0.           0.           0.           0.           0.\n",
      "    0.           0.           0.           0.          66.29766676\n",
      "   11.2659274    0.           0.           0.           1.49699405\n",
      "    0.        ]\n",
      " [  0.           0.           0.           0.           0.\n",
      "    1.90327971   0.           0.           0.           0.\n",
      "    0.          67.04550528   0.           0.           0.\n",
      "    0.           0.           0.           0.           0.\n",
      "    4.60735935   0.           0.           0.           8.50439618\n",
      "    0.        ]\n",
      " [100.74106705   6.76334603   6.95036012   0.           0.\n",
      "    0.           3.80075556   5.67937609   0.           0.\n",
      "    4.47090877   0.           9.2396255    0.           0.\n",
      "    4.54319504   0.           0.           0.           0.\n",
      "    0.           0.70395147   1.70826948   0.           0.\n",
      "    0.        ]]\n"
     ]
    }
   ],
   "source": [
    "for i in range(k):\n",
    "    plt.bar(np.linspace(1,26,26),H[i])\n",
    "    plt.xticks(np.linspace(1,26,26), list(\"abcdefghijklmnopqrstuvwxyz\"))\n",
    "    plt.show()\n",
    "    \n",
    "print(W,H)"
   ]
  },
  {
   "cell_type": "code",
   "execution_count": 487,
   "metadata": {
    "ExecuteTime": {
     "end_time": "2022-01-24T21:33:47.658025Z",
     "start_time": "2022-01-24T21:33:44.369020Z"
    }
   },
   "outputs": [
    {
     "data": {
      "image/png": "[encoded data removed]",
      "text/plain": [
       "<Figure size 432x288 with 1 Axes>"
      ]
     },
     "metadata": {
      "needs_background": "light"
     },
     "output_type": "display_data"
    },
    {
     "data": {
      "image/png": "[encoded data removed]",
      "text/plain": [
       "<Figure size 432x288 with 1 Axes>"
      ]
     },
     "metadata": {
      "needs_background": "light"
     },
     "output_type": "display_data"
    },
    {
     "data": {
      "image/png": "[encoded data removed]",
      "text/plain": [
       "<Figure size 432x288 with 1 Axes>"
      ]
     },
     "metadata": {
      "needs_background": "light"
     },
     "output_type": "display_data"
    },
    {
     "data": {
      "image/png": "[encoded data removed]",
      "text/plain": [
       "<Figure size 432x288 with 1 Axes>"
      ]
     },
     "metadata": {
      "needs_background": "light"
     },
     "output_type": "display_data"
    },
    {
     "data": {
      "image/png": "[encoded data removed]",
      "text/plain": [
       "<Figure size 432x288 with 1 Axes>"
      ]
     },
     "metadata": {
      "needs_background": "light"
     },
     "output_type": "display_data"
    },
    {
     "data": {
      "image/png": "[encoded data removed]",
      "text/plain": [
       "<Figure size 432x288 with 1 Axes>"
      ]
     },
     "metadata": {
      "needs_background": "light"
     },
     "output_type": "display_data"
    },
    {
     "data": {
      "image/png": "[encoded data removed]",
      "text/plain": [
       "<Figure size 432x288 with 1 Axes>"
      ]
     },
     "metadata": {
      "needs_background": "light"
     },
     "output_type": "display_data"
    },
    {
     "data": {
      "image/png": "[encoded data removed]",
      "text/plain": [
       "<Figure size 432x288 with 1 Axes>"
      ]
     },
     "metadata": {
      "needs_background": "light"
     },
     "output_type": "display_data"
    },
    {
     "data": {
      "image/png": "[encoded data removed]",
      "text/plain": [
       "<Figure size 432x288 with 1 Axes>"
      ]
     },
     "metadata": {
      "needs_background": "light"
     },
     "output_type": "display_data"
    },
    {
     "data": {
      "image/png": "[encoded data removed]",
      "text/plain": [
       "<Figure size 432x288 with 1 Axes>"
      ]
     },
     "metadata": {
      "needs_background": "light"
     },
     "output_type": "display_data"
    },
    {
     "name": "stdout",
     "output_type": "stream",
     "text": [
      "[[0.00350578 0.00101441 0.         ... 0.         0.01912587 0.01077549]\n",
      " [0.         0.02597588 0.         ... 0.         0.01894428 0.        ]\n",
      " [0.00384906 0.         0.         ... 0.         0.01923737 0.0000792 ]\n",
      " ...\n",
      " [0.01154453 0.00244536 0.         ... 0.         0.00973845 0.00202203]\n",
      " [0.02185047 0.         0.01122471 ... 0.         0.         0.        ]\n",
      " [0.01077649 0.01296139 0.01123429 ... 0.         0.         0.        ]] [[ 0.          4.07229777 26.13172448  1.80689631  0.          1.16952737\n",
      "   2.79086441 14.99207271  0.          0.          5.11000943  0.\n",
      "   8.11309497  0.          0.         14.133406    0.          0.\n",
      "   0.          0.         45.38033614  0.          0.          0.\n",
      "  16.10546429  0.        ]\n",
      " [ 0.          0.          0.          7.03660269  0.          0.\n",
      "   0.38280665  0.         70.02939981  0.          0.20429895  0.\n",
      "   2.66356663  0.          0.          0.          0.          0.\n",
      "   0.          0.          0.          0.          0.          0.\n",
      "   0.          0.        ]\n",
      " [ 0.          0.          0.          0.          0.          0.\n",
      "   0.          0.          0.          0.          0.44694291  0.\n",
      "   0.          0.          0.          0.27344279  0.          0.\n",
      "  83.58690196  0.          0.          0.          0.          0.\n",
      "   0.          0.        ]\n",
      " [ 0.          0.          0.          0.          0.          0.\n",
      "   0.          0.          0.          0.          0.         64.90987313\n",
      "   0.          0.          0.          0.          0.          0.\n",
      "   0.          0.          0.          0.          0.          0.\n",
      "   0.33675055  0.        ]\n",
      " [ 0.          0.          0.          0.          0.          0.\n",
      "   1.44715606  0.          0.          0.          0.          0.\n",
      "   0.         62.66642189  0.          0.          0.          0.\n",
      "   0.          0.          0.          0.          0.          0.\n",
      "   0.          0.        ]\n",
      " [ 0.          2.03127501  0.          3.24937093  0.          0.\n",
      "   1.16221916  0.          0.          0.          0.          0.\n",
      "   1.43468467  0.         75.04244622  0.          0.          0.\n",
      "   0.          0.          0.          0.          0.          0.\n",
      "   0.          0.        ]\n",
      " [ 0.          0.          0.          0.          0.          0.\n",
      "   0.          0.          0.          0.          0.          0.\n",
      "   0.          0.          0.          0.          0.         70.3294534\n",
      "   0.          0.          0.          0.          0.          0.\n",
      "   0.          0.        ]\n",
      " [ 0.          0.          0.          0.          0.          0.\n",
      "   0.          0.          0.          0.          0.          0.\n",
      "   0.          0.          0.          0.          0.          0.\n",
      "   0.         64.51721173  0.          0.          0.          0.\n",
      "   0.          0.        ]\n",
      " [98.37227357  4.08866115  0.          1.75624088  0.          0.\n",
      "   2.58124175  0.          0.          0.          1.69585264  0.\n",
      "   5.56527181  0.          0.          0.          0.          0.\n",
      "   0.          0.          0.          0.          0.          0.\n",
      "   0.          0.        ]\n",
      " [ 0.          1.38138444  0.         10.23134956 94.73825493  0.\n",
      "   1.47918496  0.          0.          0.          0.          0.\n",
      "   0.14930475  0.          0.          0.17384989  0.          0.\n",
      "   0.          0.          0.          1.09682283  0.89982646  0.\n",
      "   0.          0.        ]]\n"
     ]
    }
   ],
   "source": [
    "for i in range(k):\n",
    "    plt.bar(np.linspace(1,26,26),H[i])\n",
    "    plt.xticks(np.linspace(1,26,26), list(\"abcdefghijklmnopqrstuvwxyz\"))\n",
    "    plt.show()\n",
    "    \n",
    "print(W,H)"
   ]
  },
  {
   "cell_type": "code",
   "execution_count": 485,
   "metadata": {
    "ExecuteTime": {
     "end_time": "2022-01-24T21:15:22.367718Z",
     "start_time": "2022-01-24T21:15:20.054606Z"
    }
   },
   "outputs": [
    {
     "data": {
      "image/png": "[encoded data removed]",
      "text/plain": [
       "<Figure size 432x288 with 1 Axes>"
      ]
     },
     "metadata": {
      "needs_background": "light"
     },
     "output_type": "display_data"
    },
    {
     "data": {
      "image/png": "[encoded data removed]",
      "text/plain": [
       "<Figure size 432x288 with 1 Axes>"
      ]
     },
     "metadata": {
      "needs_background": "light"
     },
     "output_type": "display_data"
    },
    {
     "data": {
      "image/png": "[encoded data removed]",
      "text/plain": [
       "<Figure size 432x288 with 1 Axes>"
      ]
     },
     "metadata": {
      "needs_background": "light"
     },
     "output_type": "display_data"
    },
    {
     "data": {
      "image/png": "[encoded data removed]",
      "text/plain": [
       "<Figure size 432x288 with 1 Axes>"
      ]
     },
     "metadata": {
      "needs_background": "light"
     },
     "output_type": "display_data"
    },
    {
     "data": {
      "image/png": "[encoded data removed]",
      "text/plain": [
       "<Figure size 432x288 with 1 Axes>"
      ]
     },
     "metadata": {
      "needs_background": "light"
     },
     "output_type": "display_data"
    },
    {
     "name": "stdout",
     "output_type": "stream",
     "text": [
      "[[0.00929842 0.         0.00213965 0.         0.01838205]\n",
      " [0.         0.         0.01581445 0.         0.01848954]\n",
      " [0.00151972 0.00139614 0.00190743 0.         0.02013641]\n",
      " ...\n",
      " [0.00107035 0.         0.00491336 0.         0.00924754]\n",
      " [0.         0.         0.0089118  0.01119092 0.        ]\n",
      " [0.         0.         0.01238157 0.01116232 0.        ]] [[ 0.          0.47848961  0.          7.44723135 93.81310044  0.\n",
      "   0.          0.          0.          0.          0.          0.\n",
      "   0.          0.          0.          0.          0.         23.98339929\n",
      "   0.          0.          0.          1.19754047  0.23117281  0.\n",
      "   0.          0.        ]\n",
      " [ 0.          1.40518589  3.80567237  0.38746027  0.          0.\n",
      "   0.          0.          0.          0.          0.          0.\n",
      "   0.74651109  0.         74.40208026  0.32988293  0.         14.42182586\n",
      "   0.          0.          0.          0.          0.          0.\n",
      "   0.          0.        ]\n",
      " [ 0.73878555  5.96978185 13.39082451 10.85194042  0.          3.00252838\n",
      "   8.46660776 10.32859903 53.16165061  0.          5.6652363  33.8668278\n",
      "   9.7590335  33.37124565  0.          9.70040687  0.          0.\n",
      "   0.51439516 33.30699441 22.2466906   0.          1.57137458  0.\n",
      "  12.60052877  0.        ]\n",
      " [ 0.          0.          0.          0.          0.          0.\n",
      "   0.          0.          0.          0.          0.          0.\n",
      "   0.          0.          0.          1.48556662  0.          0.\n",
      "  83.35593322  0.          0.          0.          0.          0.\n",
      "   0.          0.        ]\n",
      " [97.68845288  2.64646578  0.15414941  0.          0.          0.\n",
      "   0.19754734  0.48150727  0.          0.          0.9499194   0.\n",
      "   3.98141064  0.          0.          0.0299785   0.         15.35860648\n",
      "   0.          0.          0.          0.          0.          0.\n",
      "   0.          0.        ]]\n"
     ]
    }
   ],
   "source": [
    "for i in range(k):\n",
    "    plt.bar(np.linspace(1,26,26),H[i])\n",
    "    plt.xticks(np.linspace(1,26,26), list(\"abcdefghijklmnopqrstuvwxyz\"))\n",
    "    plt.show()\n",
    "    \n",
    "print(W,H)"
   ]
  },
  {
   "cell_type": "code",
   "execution_count": 483,
   "metadata": {
    "ExecuteTime": {
     "end_time": "2022-01-24T20:39:51.200896Z",
     "start_time": "2022-01-24T20:39:49.000093Z"
    }
   },
   "outputs": [
    {
     "data": {
      "image/png": "[encoded data removed]",
      "text/plain": [
       "<Figure size 432x288 with 1 Axes>"
      ]
     },
     "metadata": {
      "needs_background": "light"
     },
     "output_type": "display_data"
    },
    {
     "data": {
      "image/png": "[encoded data removed]",
      "text/plain": [
       "<Figure size 432x288 with 1 Axes>"
      ]
     },
     "metadata": {
      "needs_background": "light"
     },
     "output_type": "display_data"
    },
    {
     "data": {
      "image/png": "[encoded data removed]",
      "text/plain": [
       "<Figure size 432x288 with 1 Axes>"
      ]
     },
     "metadata": {
      "needs_background": "light"
     },
     "output_type": "display_data"
    },
    {
     "data": {
      "image/png": "[encoded data removed]",
      "text/plain": [
       "<Figure size 432x288 with 1 Axes>"
      ]
     },
     "metadata": {
      "needs_background": "light"
     },
     "output_type": "display_data"
    },
    {
     "data": {
      "image/png": "[encoded data removed]",
      "text/plain": [
       "<Figure size 432x288 with 1 Axes>"
      ]
     },
     "metadata": {
      "needs_background": "light"
     },
     "output_type": "display_data"
    },
    {
     "name": "stdout",
     "output_type": "stream",
     "text": [
      "[[0.         0.01837539 0.01046005 0.         0.        ]\n",
      " [0.         0.01896037 0.00018714 0.         0.00855245]\n",
      " [0.         0.01856675 0.         0.01309916 0.00002061]\n",
      " ...\n",
      " [0.00073456 0.00957562 0.00216432 0.00086691 0.00137916]\n",
      " [0.00091739 0.00083652 0.00052548 0.00158305 0.01184817]\n",
      " [0.00086208 0.00056983 0.00011908 0.00063263 0.01450327]] [[ 0.          3.31924281  8.31182212  4.84407666  0.          0.\n",
      "   2.67923926  1.41035919  0.          0.          0.          9.92683686\n",
      "   2.78660134 10.16349535 74.36768117  1.20191558  0.          0.\n",
      "   0.          0.30720056  0.          0.          0.          0.\n",
      "   4.3846437   0.        ]\n",
      " [97.9631518   5.17078554  4.97993705  3.8936857   0.          0.\n",
      "   3.80056531  2.8422372   0.          0.          2.16038085 14.21403551\n",
      "   7.04998091 12.21696422  0.          1.55337312  0.          0.\n",
      "   0.          0.64467521  0.          0.          0.          0.\n",
      "   2.93272004  0.        ]\n",
      " [ 0.          1.68345505  0.         11.77260218 94.66543402  0.\n",
      "   1.59845599  0.          0.          0.          0.          6.86351368\n",
      "   0.33703413  3.12041898  0.          0.03489226  0.          0.\n",
      "   0.          0.81623596  0.          1.17950017  0.45168682  0.\n",
      "   0.          0.        ]\n",
      " [ 0.          0.          0.          0.          0.          0.\n",
      "   0.          0.          0.          0.          0.          0.\n",
      "   0.          0.          0.          0.          0.         70.28618262\n",
      "   0.          0.          4.83238043  0.          0.          0.\n",
      "   1.49207331  0.        ]\n",
      " [ 0.          0.76631349  4.89768345  0.          0.          2.152893\n",
      "   1.3611059   7.60586476 41.73784632  0.          4.94776298  7.24025487\n",
      "   5.140959    8.83825347  0.          9.55673728  0.          0.\n",
      "  73.1229279  30.33185869 17.80454408  0.          1.23421862  0.\n",
      "   3.71643528  0.        ]]\n"
     ]
    }
   ],
   "source": [
    "for i in range(k):\n",
    "    plt.bar(np.linspace(1,26,26),H[i])\n",
    "    plt.xticks(np.linspace(1,26,26), list(\"abcdefghijklmnopqrstuvwxyz\"))\n",
    "    plt.show()\n",
    "    \n",
    "print(W,H)"
   ]
  },
  {
   "cell_type": "code",
   "execution_count": 481,
   "metadata": {
    "ExecuteTime": {
     "end_time": "2022-01-24T20:36:57.229351Z",
     "start_time": "2022-01-24T20:36:53.881180Z"
    }
   },
   "outputs": [
    {
     "data": {
      "image/png": "[encoded data removed]",
      "text/plain": [
       "<Figure size 432x288 with 1 Axes>"
      ]
     },
     "metadata": {
      "needs_background": "light"
     },
     "output_type": "display_data"
    },
    {
     "data": {
      "image/png": "[encoded data removed]",
      "text/plain": [
       "<Figure size 432x288 with 1 Axes>"
      ]
     },
     "metadata": {
      "needs_background": "light"
     },
     "output_type": "display_data"
    },
    {
     "data": {
      "image/png": "[encoded data removed]",
      "text/plain": [
       "<Figure size 432x288 with 1 Axes>"
      ]
     },
     "metadata": {
      "needs_background": "light"
     },
     "output_type": "display_data"
    },
    {
     "data": {
      "image/png": "[encoded data removed]",
      "text/plain": [
       "<Figure size 432x288 with 1 Axes>"
      ]
     },
     "metadata": {
      "needs_background": "light"
     },
     "output_type": "display_data"
    },
    {
     "data": {
      "image/png": "[encoded data removed]",
      "text/plain": [
       "<Figure size 432x288 with 1 Axes>"
      ]
     },
     "metadata": {
      "needs_background": "light"
     },
     "output_type": "display_data"
    },
    {
     "name": "stdout",
     "output_type": "stream",
     "text": [
      "[[0.01834764 0.         0.00936508 0.00174116 0.        ]\n",
      " [0.01829557 0.         0.         0.0162329  0.        ]\n",
      " [0.02020474 0.00164358 0.00150187 0.0015461  0.        ]\n",
      " ...\n",
      " [0.00920944 0.         0.00129323 0.00451713 0.00028489]\n",
      " [0.         0.         0.         0.00875799 0.01177603]\n",
      " [0.         0.         0.         0.01256441 0.01138876]] [[98.84150051  3.79198285  1.93131189  0.33394254  0.          0.\n",
      "   1.28017431  1.9980065   0.          0.          1.92941411  0.\n",
      "   5.60260876  0.          0.          1.26219156  0.         16.05102994\n",
      "   0.          0.          0.          0.          0.          0.\n",
      "   0.          0.        ]\n",
      " [ 0.          2.5095328   5.85327148  1.68550495  0.          0.\n",
      "   0.88669832  1.2225208   0.          0.          0.          0.\n",
      "   2.18363024  0.         75.0436742   1.5081391   0.         15.53047921\n",
      "   0.          0.          0.          0.          0.          0.\n",
      "   0.89370561  0.        ]\n",
      " [ 0.          1.34371127  0.          8.78321196 94.62061363  0.\n",
      "   0.6105358   0.          0.          0.          0.          0.\n",
      "   0.05628367  0.          0.          0.81974304  0.         24.05447305\n",
      "   0.          0.          0.          1.93704969  1.00611519  0.\n",
      "   0.          0.        ]\n",
      " [ 0.          4.87157029 11.70475712  9.77693582  0.          3.64414808\n",
      "   7.73277327  9.30794847 54.37925369  0.          5.15660571 34.52250796\n",
      "   8.50299329 34.17634011  0.          7.76832642  0.          0.\n",
      "   0.         34.04384127 21.15008529  0.20496269  1.78227585  0.\n",
      "  12.6168274   0.        ]\n",
      " [ 0.          0.          0.          0.          0.          0.\n",
      "   0.          0.          0.          0.          1.03100349  0.\n",
      "   0.          0.          0.          2.73421661  0.          0.\n",
      "  84.38337716  0.          2.59335772  0.          0.          0.\n",
      "   0.          0.        ]]\n"
     ]
    }
   ],
   "source": [
    "for i in range(k):\n",
    "    plt.bar(np.linspace(1,26,26),H[i])\n",
    "    plt.xticks(np.linspace(1,26,26), list(\"abcdefghijklmnopqrstuvwxyz\"))\n",
    "    plt.show()\n",
    "    \n",
    "print(W,H)"
   ]
  },
  {
   "cell_type": "code",
   "execution_count": 527,
   "metadata": {
    "ExecuteTime": {
     "end_time": "2022-01-24T23:58:38.048619Z",
     "start_time": "2022-01-24T23:57:07.810660Z"
    }
   },
   "outputs": [
    {
     "name": "stdout",
     "output_type": "stream",
     "text": [
      "[[0.92436447 1.         0.95203666 0.86933776 0.92599389 1.\n",
      "  0.97800641 0.82648073 0.92987811 0.27572709 0.83064967 0.52862413\n",
      "  0.84796321 0.64082525 0.8432834  0.94992228 0.1309304  1.\n",
      "  0.82978839 0.92988248 1.         0.69871114 0.70926177 0.27085203\n",
      "  1.         0.35451049]\n",
      " [1.         1.         1.         1.         0.84982046 0.92186327\n",
      "  1.         1.         0.8955328  0.57954941 1.         1.\n",
      "  1.         1.         0.54954584 1.         0.16980177 0.87814595\n",
      "  0.88268773 1.         0.91815419 0.99712507 1.         0.35148841\n",
      "  1.         0.64444635]\n",
      " [0.83786571 1.         0.96431877 1.         1.         0.98459435\n",
      "  1.         1.         0.84779356 0.37385511 0.96335575 1.\n",
      "  1.         1.         0.61028018 1.         0.15458646 0.9022615\n",
      "  0.89538856 1.         0.74338814 1.         1.         0.64333926\n",
      "  0.95890878 0.58446578]\n",
      " [0.87131841 1.         1.         1.         0.88434918 1.\n",
      "  1.         1.         1.         0.49234531 1.         1.\n",
      "  1.         1.         1.         1.         0.16155932 0.86482836\n",
      "  0.90154005 1.         1.         0.94935759 1.         0.52798566\n",
      "  1.         0.68122009]\n",
      " [0.89490044 0.81364369 0.82947204 0.71769322 0.90490962 0.96434916\n",
      "  0.79137103 1.         0.93911165 0.34566455 1.         0.88797215\n",
      "  0.94877567 0.75351958 0.79394879 1.         0.15993725 0.79685245\n",
      "  1.         1.         1.         0.55612471 0.97220229 0.27912661\n",
      "  0.86128381 0.25950517]]\n"
     ]
    }
   ],
   "source": [
    "#SNMF\n",
    "\n",
    "#number of rank\n",
    "k = 5\n",
    "#avoiding division by zero\n",
    "eps = .000001\n",
    "#number of iterations\n",
    "num  = 10000\n",
    "\n",
    "#L1 Regularization strength\n",
    "lam1 = 4\n",
    "\n",
    "#Initialization\n",
    "\n",
    "##Scale of Stochasticity\n",
    "r = .1\n",
    "##Deterministic part\n",
    "u = 1\n",
    "\n",
    "W = r*np.random.rand(n,k)+u\n",
    "s = np.linalg.norm(W, axis = 0)\n",
    "W = W/s\n",
    "\n",
    "H = r*np.random.rand(k,m)+u\n",
    "\n",
    "\n",
    "#Iteration of Multiplicative Updates\n",
    "for i in range(num):\n",
    "    #common calculation\n",
    "    c = np.linalg.multi_dot([W,H,np.transpose(H)])\n",
    "    d = np.dot(Q,np.transpose(H))\n",
    "    \n",
    "    A = d + W*np.linalg.multi_dot([np.ones((n,1)),np.ones((1,n)),W*c])\n",
    "    B  = c + W*np.linalg.multi_dot([np.ones((n,1)),np.ones((1,n)),W*d]) + eps\n",
    "\n",
    "    W = W*A/B\n",
    "    \n",
    "    A = np.dot(np.transpose(W),Q)  \n",
    "    B = np.linalg.multi_dot([np.transpose(W),W,H]) + lam1\n",
    "\n",
    "    H = H*A/B\n",
    "    \n",
    "    s = np.linalg.norm(W, axis = 0)\n",
    "    W = W/s\n",
    "\n",
    "print(A/B)"
   ]
  },
  {
   "cell_type": "code",
   "execution_count": 528,
   "metadata": {
    "ExecuteTime": {
     "end_time": "2022-01-24T23:58:50.768737Z",
     "start_time": "2022-01-24T23:58:49.300840Z"
    }
   },
   "outputs": [
    {
     "data": {
      "image/png": "[encoded data removed]",
      "text/plain": [
       "<Figure size 432x288 with 1 Axes>"
      ]
     },
     "metadata": {
      "needs_background": "light"
     },
     "output_type": "display_data"
    },
    {
     "data": {
      "image/png": "[encoded data removed]",
      "text/plain": [
       "<Figure size 432x288 with 1 Axes>"
      ]
     },
     "metadata": {
      "needs_background": "light"
     },
     "output_type": "display_data"
    },
    {
     "data": {
      "image/png": "[encoded data removed]",
      "text/plain": [
       "<Figure size 432x288 with 1 Axes>"
      ]
     },
     "metadata": {
      "needs_background": "light"
     },
     "output_type": "display_data"
    },
    {
     "data": {
      "image/png": "[encoded data removed]",
      "text/plain": [
       "<Figure size 432x288 with 1 Axes>"
      ]
     },
     "metadata": {
      "needs_background": "light"
     },
     "output_type": "display_data"
    },
    {
     "data": {
      "image/png": "[encoded data removed]",
      "text/plain": [
       "<Figure size 432x288 with 1 Axes>"
      ]
     },
     "metadata": {
      "needs_background": "light"
     },
     "output_type": "display_data"
    }
   ],
   "source": [
    "for i in range(k):\n",
    "    plt.bar(np.linspace(1,26,26),H[i])\n",
    "    plt.xticks(np.linspace(1,26,26), list(\"abcdefghijklmnopqrstuvwxyz\"))\n",
    "    plt.show()"
   ]
  },
  {
   "cell_type": "code",
   "execution_count": 526,
   "metadata": {
    "ExecuteTime": {
     "end_time": "2022-01-24T23:55:29.502183Z",
     "start_time": "2022-01-24T23:55:27.933724Z"
    }
   },
   "outputs": [
    {
     "data": {
      "image/png": "[encoded data removed]",
      "text/plain": [
       "<Figure size 432x288 with 1 Axes>"
      ]
     },
     "metadata": {
      "needs_background": "light"
     },
     "output_type": "display_data"
    },
    {
     "data": {
      "image/png": "[encoded data removed]",
      "text/plain": [
       "<Figure size 432x288 with 1 Axes>"
      ]
     },
     "metadata": {
      "needs_background": "light"
     },
     "output_type": "display_data"
    },
    {
     "data": {
      "image/png": "[encoded data removed]",
      "text/plain": [
       "<Figure size 432x288 with 1 Axes>"
      ]
     },
     "metadata": {
      "needs_background": "light"
     },
     "output_type": "display_data"
    },
    {
     "data": {
      "image/png": "[encoded data removed]",
      "text/plain": [
       "<Figure size 432x288 with 1 Axes>"
      ]
     },
     "metadata": {
      "needs_background": "light"
     },
     "output_type": "display_data"
    },
    {
     "data": {
      "image/png": "[encoded data removed]",
      "text/plain": [
       "<Figure size 432x288 with 1 Axes>"
      ]
     },
     "metadata": {
      "needs_background": "light"
     },
     "output_type": "display_data"
    }
   ],
   "source": [
    "for i in range(k):\n",
    "    plt.bar(np.linspace(1,26,26),H[i])\n",
    "    plt.xticks(np.linspace(1,26,26), list(\"abcdefghijklmnopqrstuvwxyz\"))\n",
    "    plt.show()"
   ]
  }
 ],
 "metadata": {
  "colab": {
   "collapsed_sections": [],
   "include_colab_link": true,
   "name": "Wordle Assistant",
   "provenance": []
  },
  "kernelspec": {
   "display_name": "Python 3",
   "language": "python",
   "name": "python3"
  },
  "language_info": {
   "codemirror_mode": {
    "name": "ipython",
    "version": 3
   },
   "file_extension": ".py",
   "mimetype": "text/x-python",
   "name": "python",
   "nbconvert_exporter": "python",
   "pygments_lexer": "ipython3",
   "version": "3.8.5"
  },
  "varInspector": {
   "cols": {
    "lenName": 16,
    "lenType": 16,
    "lenVar": 40
   },
   "kernels_config": {
    "python": {
     "delete_cmd_postfix": "",
     "delete_cmd_prefix": "del ",
     "library": "var_list.py",
     "varRefreshCmd": "print(var_dic_list())"
    },
    "r": {
     "delete_cmd_postfix": ") ",
     "delete_cmd_prefix": "rm(",
     "library": "var_list.r",
     "varRefreshCmd": "cat(var_dic_list()) "
    }
   },
   "types_to_exclude": [
    "module",
    "function",
    "builtin_function_or_method",
    "instance",
    "_Feature"
   ],
   "window_display": false
  }
 },
 "nbformat": 4,
 "nbformat_minor": 1
}
