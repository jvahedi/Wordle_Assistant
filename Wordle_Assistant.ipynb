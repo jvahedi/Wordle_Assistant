{
  "nbformat": 4,
  "nbformat_minor": 0,
  "metadata": {
    "colab": {
      "name": "Wordle Assistant",
      "provenance": [],
      "authorship_tag": "ABX9TyMPBJzry9GgD1+o6DKzvvNH",
      "include_colab_link": true
    },
    "kernelspec": {
      "name": "python3",
      "display_name": "Python 3"
    },
    "language_info": {
      "name": "python"
    }
  },
  "cells": [
    {
      "cell_type": "markdown",
      "metadata": {
        "id": "view-in-github",
        "colab_type": "text"
      },
      "source": [
        "<a href=\"https://colab.research.google.com/github/jvahedi/Wordle_Assistant/blob/main/Wordle_Assistant.ipynb\" target=\"_parent\"><img src=\"https://colab.research.google.com/assets/colab-badge.svg\" alt=\"Open In Colab\"/></a>"
      ]
    },
    {
      "cell_type": "markdown",
      "source": [
        "#Instructions:\n",
        "In the first line below you can include all remaining possible letters. (NON-GREY)\n",
        "\n",
        "In the the second line you can specify which letters are definitely in the word. (YELLOW)\n",
        "\n",
        "In the third line you can include letters and their positions that are certain. (GREEN)\n",
        "\n",
        "Now you can press the \"play\" button on the top left corner of the box below and scroll down to see your list of words. "
      ],
      "metadata": {
        "id": "I918_b_AJeTO"
      }
    },
    {
      "cell_type": "code",
      "execution_count": 85,
      "metadata": {
        "colab": {
          "base_uri": "https://localhost:8080/"
        },
        "id": "lOsty8Mo0Pxk",
        "outputId": "70508411-27e2-49ee-a4ba-de67659872aa"
      },
      "outputs": [
        {
          "output_type": "stream",
          "name": "stdout",
          "text": [
            "['queak' 'queal' 'quean' 'quegh' 'queys' 'quelt' 'quent' 'query' 'querl'\n",
            " 'quern' 'quest']\n"
          ]
        }
      ],
      "source": [
        "letters_possible = 'abcdefghijklmnopqrstuvwxyz'\n",
        "letters_definitely = 'q'\n",
        "letters_position = '??e??'\n",
        "\n",
        "\n",
        "import numpy as np\n",
        "possible = list(letters_possible) \n",
        "position = list(letters_position) \n",
        "definitely = list(letters_definitely) \n",
        "\n",
        "import urllib\n",
        "url = \"https://raw.githubusercontent.com/dwyl/english-words/master/words_alpha.txt\"\n",
        "file = urllib.request.urlopen(url)\n",
        "list_o_words = [((line.decode('utf-8').strip()).split()) for line in file]\n",
        "file.close()\n",
        "\n",
        "list_o_words = np.array(list_o_words)\n",
        "length = np.char.str_len(list_o_words)\n",
        "list_o_words = list_o_words[length == 5]\n",
        "words = list_o_words\n",
        "\n",
        "req = np.ones(len(words)).astype(bool)\n",
        "i = 0\n",
        "for L in position:\n",
        "  if L == '?':\n",
        "    pass\n",
        "  else:\n",
        "    req = np.logical_and(req,np.char.find(words, L) == i)\n",
        "  i = i+1\n",
        "words = words[req]\n",
        "\n",
        "has = np.ones(len(words)).astype(bool)\n",
        "for k in definitely:\n",
        "    has = np.logical_and(has,np.char.find(words, k) != -1)\n",
        "words = words[has]\n",
        "\n",
        "hits = np.zeros(len(words))\n",
        "for l in possible:\n",
        "  out  = (np.char.find(words, l) != -1).astype(int)\n",
        "  hits = hits + out\n",
        "words = words[hits > 4]\n",
        "\n",
        "print(words)"
      ]
    },
    {
      "cell_type": "code",
      "source": [
        ""
      ],
      "metadata": {
        "id": "QULLCICaPE7v"
      },
      "execution_count": null,
      "outputs": []
    }
  ]
}